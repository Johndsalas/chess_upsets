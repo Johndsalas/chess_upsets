{
 "cells": [
  {
   "cell_type": "markdown",
   "id": "passive-collect",
   "metadata": {},
   "source": [
    "# Goal: Find drivers of upsets in chess games and create a model to predict upsets \n",
    "\n",
    "* Upset is defined as a player with a lower rating winning a game agenst a player with a higher rating\n",
    "* Model should make a predictions after having 'interviewed' each player as to thier intended opening and what defence they intend to use against a given opening "
   ]
  },
  {
   "cell_type": "markdown",
   "id": "recognized-insertion",
   "metadata": {},
   "source": [
    "# Imports"
   ]
  },
  {
   "cell_type": "code",
   "execution_count": 1,
   "id": "following-steam",
   "metadata": {},
   "outputs": [],
   "source": [
    "import pandas as pd\n",
    "import numpy as np\n",
    "\n",
    "import matplotlib.pyplot as plt\n",
    "import seaborn as sns\n",
    "import os\n",
    "\n",
    "from sklearn.model_selection import train_test_split\n",
    "import sklearn.preprocessing\n",
    "\n",
    "import warnings\n",
    "warnings.filterwarnings(\"ignore\")"
   ]
  },
  {
   "cell_type": "markdown",
   "id": "further-swimming",
   "metadata": {},
   "source": [
    "# Acquire\n",
    "\n",
    "* Data acquired from Kaggle at https://www.kaggle.com/datasnaek/chess"
   ]
  },
  {
   "cell_type": "code",
   "execution_count": 2,
   "id": "awful-croatia",
   "metadata": {},
   "outputs": [],
   "source": [
    "df = pd.read_csv('games.csv')"
   ]
  },
  {
   "cell_type": "code",
   "execution_count": 3,
   "id": "collective-nation",
   "metadata": {},
   "outputs": [
    {
     "data": {
      "text/html": [
       "<div>\n",
       "<style scoped>\n",
       "    .dataframe tbody tr th:only-of-type {\n",
       "        vertical-align: middle;\n",
       "    }\n",
       "\n",
       "    .dataframe tbody tr th {\n",
       "        vertical-align: top;\n",
       "    }\n",
       "\n",
       "    .dataframe thead th {\n",
       "        text-align: right;\n",
       "    }\n",
       "</style>\n",
       "<table border=\"1\" class=\"dataframe\">\n",
       "  <thead>\n",
       "    <tr style=\"text-align: right;\">\n",
       "      <th></th>\n",
       "      <th>id</th>\n",
       "      <th>rated</th>\n",
       "      <th>created_at</th>\n",
       "      <th>last_move_at</th>\n",
       "      <th>turns</th>\n",
       "      <th>victory_status</th>\n",
       "      <th>winner</th>\n",
       "      <th>increment_code</th>\n",
       "      <th>white_id</th>\n",
       "      <th>white_rating</th>\n",
       "      <th>black_id</th>\n",
       "      <th>black_rating</th>\n",
       "      <th>moves</th>\n",
       "      <th>opening_eco</th>\n",
       "      <th>opening_name</th>\n",
       "      <th>opening_ply</th>\n",
       "    </tr>\n",
       "  </thead>\n",
       "  <tbody>\n",
       "    <tr>\n",
       "      <th>0</th>\n",
       "      <td>TZJHLljE</td>\n",
       "      <td>False</td>\n",
       "      <td>1.504210e+12</td>\n",
       "      <td>1.504210e+12</td>\n",
       "      <td>13</td>\n",
       "      <td>outoftime</td>\n",
       "      <td>white</td>\n",
       "      <td>15+2</td>\n",
       "      <td>bourgris</td>\n",
       "      <td>1500</td>\n",
       "      <td>a-00</td>\n",
       "      <td>1191</td>\n",
       "      <td>d4 d5 c4 c6 cxd5 e6 dxe6 fxe6 Nf3 Bb4+ Nc3 Ba5...</td>\n",
       "      <td>D10</td>\n",
       "      <td>Slav Defense: Exchange Variation</td>\n",
       "      <td>5</td>\n",
       "    </tr>\n",
       "    <tr>\n",
       "      <th>1</th>\n",
       "      <td>l1NXvwaE</td>\n",
       "      <td>True</td>\n",
       "      <td>1.504130e+12</td>\n",
       "      <td>1.504130e+12</td>\n",
       "      <td>16</td>\n",
       "      <td>resign</td>\n",
       "      <td>black</td>\n",
       "      <td>5+10</td>\n",
       "      <td>a-00</td>\n",
       "      <td>1322</td>\n",
       "      <td>skinnerua</td>\n",
       "      <td>1261</td>\n",
       "      <td>d4 Nc6 e4 e5 f4 f6 dxe5 fxe5 fxe5 Nxe5 Qd4 Nc6...</td>\n",
       "      <td>B00</td>\n",
       "      <td>Nimzowitsch Defense: Kennedy Variation</td>\n",
       "      <td>4</td>\n",
       "    </tr>\n",
       "    <tr>\n",
       "      <th>2</th>\n",
       "      <td>mIICvQHh</td>\n",
       "      <td>True</td>\n",
       "      <td>1.504130e+12</td>\n",
       "      <td>1.504130e+12</td>\n",
       "      <td>61</td>\n",
       "      <td>mate</td>\n",
       "      <td>white</td>\n",
       "      <td>5+10</td>\n",
       "      <td>ischia</td>\n",
       "      <td>1496</td>\n",
       "      <td>a-00</td>\n",
       "      <td>1500</td>\n",
       "      <td>e4 e5 d3 d6 Be3 c6 Be2 b5 Nd2 a5 a4 c5 axb5 Nc...</td>\n",
       "      <td>C20</td>\n",
       "      <td>King's Pawn Game: Leonardis Variation</td>\n",
       "      <td>3</td>\n",
       "    </tr>\n",
       "    <tr>\n",
       "      <th>3</th>\n",
       "      <td>kWKvrqYL</td>\n",
       "      <td>True</td>\n",
       "      <td>1.504110e+12</td>\n",
       "      <td>1.504110e+12</td>\n",
       "      <td>61</td>\n",
       "      <td>mate</td>\n",
       "      <td>white</td>\n",
       "      <td>20+0</td>\n",
       "      <td>daniamurashov</td>\n",
       "      <td>1439</td>\n",
       "      <td>adivanov2009</td>\n",
       "      <td>1454</td>\n",
       "      <td>d4 d5 Nf3 Bf5 Nc3 Nf6 Bf4 Ng4 e3 Nc6 Be2 Qd7 O...</td>\n",
       "      <td>D02</td>\n",
       "      <td>Queen's Pawn Game: Zukertort Variation</td>\n",
       "      <td>3</td>\n",
       "    </tr>\n",
       "    <tr>\n",
       "      <th>4</th>\n",
       "      <td>9tXo1AUZ</td>\n",
       "      <td>True</td>\n",
       "      <td>1.504030e+12</td>\n",
       "      <td>1.504030e+12</td>\n",
       "      <td>95</td>\n",
       "      <td>mate</td>\n",
       "      <td>white</td>\n",
       "      <td>30+3</td>\n",
       "      <td>nik221107</td>\n",
       "      <td>1523</td>\n",
       "      <td>adivanov2009</td>\n",
       "      <td>1469</td>\n",
       "      <td>e4 e5 Nf3 d6 d4 Nc6 d5 Nb4 a3 Na6 Nc3 Be7 b4 N...</td>\n",
       "      <td>C41</td>\n",
       "      <td>Philidor Defense</td>\n",
       "      <td>5</td>\n",
       "    </tr>\n",
       "  </tbody>\n",
       "</table>\n",
       "</div>"
      ],
      "text/plain": [
       "         id  rated    created_at  last_move_at  turns victory_status winner  \\\n",
       "0  TZJHLljE  False  1.504210e+12  1.504210e+12     13      outoftime  white   \n",
       "1  l1NXvwaE   True  1.504130e+12  1.504130e+12     16         resign  black   \n",
       "2  mIICvQHh   True  1.504130e+12  1.504130e+12     61           mate  white   \n",
       "3  kWKvrqYL   True  1.504110e+12  1.504110e+12     61           mate  white   \n",
       "4  9tXo1AUZ   True  1.504030e+12  1.504030e+12     95           mate  white   \n",
       "\n",
       "  increment_code       white_id  white_rating      black_id  black_rating  \\\n",
       "0           15+2       bourgris          1500          a-00          1191   \n",
       "1           5+10           a-00          1322     skinnerua          1261   \n",
       "2           5+10         ischia          1496          a-00          1500   \n",
       "3           20+0  daniamurashov          1439  adivanov2009          1454   \n",
       "4           30+3      nik221107          1523  adivanov2009          1469   \n",
       "\n",
       "                                               moves opening_eco  \\\n",
       "0  d4 d5 c4 c6 cxd5 e6 dxe6 fxe6 Nf3 Bb4+ Nc3 Ba5...         D10   \n",
       "1  d4 Nc6 e4 e5 f4 f6 dxe5 fxe5 fxe5 Nxe5 Qd4 Nc6...         B00   \n",
       "2  e4 e5 d3 d6 Be3 c6 Be2 b5 Nd2 a5 a4 c5 axb5 Nc...         C20   \n",
       "3  d4 d5 Nf3 Bf5 Nc3 Nf6 Bf4 Ng4 e3 Nc6 Be2 Qd7 O...         D02   \n",
       "4  e4 e5 Nf3 d6 d4 Nc6 d5 Nb4 a3 Na6 Nc3 Be7 b4 N...         C41   \n",
       "\n",
       "                             opening_name  opening_ply  \n",
       "0        Slav Defense: Exchange Variation            5  \n",
       "1  Nimzowitsch Defense: Kennedy Variation            4  \n",
       "2   King's Pawn Game: Leonardis Variation            3  \n",
       "3  Queen's Pawn Game: Zukertort Variation            3  \n",
       "4                        Philidor Defense            5  "
      ]
     },
     "execution_count": 3,
     "metadata": {},
     "output_type": "execute_result"
    }
   ],
   "source": [
    "df.head()"
   ]
  },
  {
   "cell_type": "markdown",
   "id": "strategic-steering",
   "metadata": {},
   "source": [
    "# Prep for Explore"
   ]
  },
  {
   "cell_type": "markdown",
   "id": "cultural-partnership",
   "metadata": {},
   "source": [
    "# notes\n",
    "\n",
    "populatiry of opening\n",
    "ave player rating of opening \n"
   ]
  },
  {
   "cell_type": "markdown",
   "id": "sufficient-database",
   "metadata": {},
   "source": [
    "### Identify columns to investigate"
   ]
  },
  {
   "cell_type": "code",
   "execution_count": 4,
   "id": "mineral-albuquerque",
   "metadata": {},
   "outputs": [
    {
     "data": {
      "text/html": [
       "<div>\n",
       "<style scoped>\n",
       "    .dataframe tbody tr th:only-of-type {\n",
       "        vertical-align: middle;\n",
       "    }\n",
       "\n",
       "    .dataframe tbody tr th {\n",
       "        vertical-align: top;\n",
       "    }\n",
       "\n",
       "    .dataframe thead th {\n",
       "        text-align: right;\n",
       "    }\n",
       "</style>\n",
       "<table border=\"1\" class=\"dataframe\">\n",
       "  <thead>\n",
       "    <tr style=\"text-align: right;\">\n",
       "      <th></th>\n",
       "      <th>rated</th>\n",
       "      <th>turns</th>\n",
       "      <th>victory_status</th>\n",
       "      <th>winner</th>\n",
       "      <th>increment_code</th>\n",
       "      <th>white_rating</th>\n",
       "      <th>black_rating</th>\n",
       "      <th>opening_eco</th>\n",
       "      <th>opening_name</th>\n",
       "    </tr>\n",
       "  </thead>\n",
       "  <tbody>\n",
       "    <tr>\n",
       "      <th>0</th>\n",
       "      <td>False</td>\n",
       "      <td>13</td>\n",
       "      <td>outoftime</td>\n",
       "      <td>white</td>\n",
       "      <td>15+2</td>\n",
       "      <td>1500</td>\n",
       "      <td>1191</td>\n",
       "      <td>D10</td>\n",
       "      <td>Slav Defense: Exchange Variation</td>\n",
       "    </tr>\n",
       "    <tr>\n",
       "      <th>1</th>\n",
       "      <td>True</td>\n",
       "      <td>16</td>\n",
       "      <td>resign</td>\n",
       "      <td>black</td>\n",
       "      <td>5+10</td>\n",
       "      <td>1322</td>\n",
       "      <td>1261</td>\n",
       "      <td>B00</td>\n",
       "      <td>Nimzowitsch Defense: Kennedy Variation</td>\n",
       "    </tr>\n",
       "    <tr>\n",
       "      <th>2</th>\n",
       "      <td>True</td>\n",
       "      <td>61</td>\n",
       "      <td>mate</td>\n",
       "      <td>white</td>\n",
       "      <td>5+10</td>\n",
       "      <td>1496</td>\n",
       "      <td>1500</td>\n",
       "      <td>C20</td>\n",
       "      <td>King's Pawn Game: Leonardis Variation</td>\n",
       "    </tr>\n",
       "    <tr>\n",
       "      <th>3</th>\n",
       "      <td>True</td>\n",
       "      <td>61</td>\n",
       "      <td>mate</td>\n",
       "      <td>white</td>\n",
       "      <td>20+0</td>\n",
       "      <td>1439</td>\n",
       "      <td>1454</td>\n",
       "      <td>D02</td>\n",
       "      <td>Queen's Pawn Game: Zukertort Variation</td>\n",
       "    </tr>\n",
       "    <tr>\n",
       "      <th>4</th>\n",
       "      <td>True</td>\n",
       "      <td>95</td>\n",
       "      <td>mate</td>\n",
       "      <td>white</td>\n",
       "      <td>30+3</td>\n",
       "      <td>1523</td>\n",
       "      <td>1469</td>\n",
       "      <td>C41</td>\n",
       "      <td>Philidor Defense</td>\n",
       "    </tr>\n",
       "  </tbody>\n",
       "</table>\n",
       "</div>"
      ],
      "text/plain": [
       "   rated  turns victory_status winner increment_code  white_rating  \\\n",
       "0  False     13      outoftime  white           15+2          1500   \n",
       "1   True     16         resign  black           5+10          1322   \n",
       "2   True     61           mate  white           5+10          1496   \n",
       "3   True     61           mate  white           20+0          1439   \n",
       "4   True     95           mate  white           30+3          1523   \n",
       "\n",
       "   black_rating opening_eco                            opening_name  \n",
       "0          1191         D10        Slav Defense: Exchange Variation  \n",
       "1          1261         B00  Nimzowitsch Defense: Kennedy Variation  \n",
       "2          1500         C20   King's Pawn Game: Leonardis Variation  \n",
       "3          1454         D02  Queen's Pawn Game: Zukertort Variation  \n",
       "4          1469         C41                        Philidor Defense  "
      ]
     },
     "execution_count": 4,
     "metadata": {},
     "output_type": "execute_result"
    }
   ],
   "source": [
    "# remove columns that are not useful\n",
    "\n",
    "df = df[['rated', 'turns', 'victory_status',\n",
    "         'winner', 'increment_code', 'white_rating',\n",
    "         'black_rating', 'opening_eco', 'opening_name']]\n",
    "\n",
    "df.head()"
   ]
  },
  {
   "cell_type": "code",
   "execution_count": 5,
   "id": "timely-decrease",
   "metadata": {},
   "outputs": [],
   "source": [
    "df = df.rename(columns={'victory_status':'ended_as', \n",
    "                        'increment_code':'time_code', \n",
    "                        'opening_eco':'opening_code', \n",
    "                        'winner': 'winning_pieces'})"
   ]
  },
  {
   "cell_type": "markdown",
   "id": "uniform-stamp",
   "metadata": {},
   "source": [
    "### Initial Thoughts\n",
    "\n",
    "* As chess is a skill based game with no random elements (except first move) \n",
    "* Because of this the player with the highest level of skill will win any game not determined by variation in player performance in a given game will be won by the player with the highest level of skill \n",
    "* Therefor conditions underwhich variation in performance is the highest should result in the highest likelyhood of an upset\n",
    "* It may be that more skilled players are able to maintain consistancy better than less skilled players under conditions that would increased variation in thier performance\n",
    "* If this is true then increasing the level of veriation would decrease the likelyhood of an upset, meaning that some of the following hypotheses would have the opposite effect of what I am predicting\n",
    "\n",
    "### Initial Hypothisese\n",
    "\n",
    "* There will be few instances of upsets, possibly leading to an imbalanced data set\n",
    "* As ratings for both players increase, the likelyhood of an upset will decrease \n",
    "* As the margin between player ratings increase the likelyhood of an upsets will decrease\n",
    "* Shorter time incraments will increase the likelyhood of an upset\n",
    "* Unranked games will have a higher likelyhood of an upset\n",
    "* Games where the higher rated player is moving the white pieces (gaining first move advantage) will have a decreased likelyhood of of an upset\n",
    "* Some opening/defense stratagies may be more or less prove to upsets\n",
    "* openings/defences that are more popular or perfered by higher rated players may be more/less prone to upset"
   ]
  },
  {
   "cell_type": "code",
   "execution_count": 6,
   "id": "optical-chocolate",
   "metadata": {},
   "outputs": [
    {
     "name": "stdout",
     "output_type": "stream",
     "text": [
      "<class 'pandas.core.frame.DataFrame'>\n",
      "RangeIndex: 20058 entries, 0 to 20057\n",
      "Data columns (total 9 columns):\n",
      " #   Column          Non-Null Count  Dtype \n",
      "---  ------          --------------  ----- \n",
      " 0   rated           20058 non-null  bool  \n",
      " 1   turns           20058 non-null  int64 \n",
      " 2   ended_as        20058 non-null  object\n",
      " 3   winning_pieces  20058 non-null  object\n",
      " 4   time_code       20058 non-null  object\n",
      " 5   white_rating    20058 non-null  int64 \n",
      " 6   black_rating    20058 non-null  int64 \n",
      " 7   opening_code    20058 non-null  object\n",
      " 8   opening_name    20058 non-null  object\n",
      "dtypes: bool(1), int64(3), object(5)\n",
      "memory usage: 1.2+ MB\n"
     ]
    }
   ],
   "source": [
    "# check data types\n",
    "df.info()"
   ]
  },
  {
   "cell_type": "markdown",
   "id": "published-prospect",
   "metadata": {},
   "source": [
    "### create an upset column"
   ]
  },
  {
   "cell_type": "code",
   "execution_count": 7,
   "id": "angry-dialogue",
   "metadata": {},
   "outputs": [],
   "source": [
    "# remove white space from values in object variables\n",
    "columns = ['ended_as', 'winning_pieces', \n",
    "         'time_code', 'opening_name', 'opening_name']\n",
    "\n",
    "for column in columns:\n",
    "    \n",
    "    df[column] = df[column].apply(lambda value: value.strip())"
   ]
  },
  {
   "cell_type": "code",
   "execution_count": 8,
   "id": "american-consistency",
   "metadata": {},
   "outputs": [],
   "source": [
    "# add column for if lowest rated player wins the game\n",
    "\n",
    "df['upset'] = (((df.white_rating > df.black_rating) & (df.winning_pieces == 'black')) |\n",
    "               ((df.white_rating < df.black_rating) & (df.winning_pieces == 'white')))"
   ]
  },
  {
   "cell_type": "code",
   "execution_count": 9,
   "id": "virtual-tunisia",
   "metadata": {},
   "outputs": [
    {
     "data": {
      "text/html": [
       "<div>\n",
       "<style scoped>\n",
       "    .dataframe tbody tr th:only-of-type {\n",
       "        vertical-align: middle;\n",
       "    }\n",
       "\n",
       "    .dataframe tbody tr th {\n",
       "        vertical-align: top;\n",
       "    }\n",
       "\n",
       "    .dataframe thead th {\n",
       "        text-align: right;\n",
       "    }\n",
       "</style>\n",
       "<table border=\"1\" class=\"dataframe\">\n",
       "  <thead>\n",
       "    <tr style=\"text-align: right;\">\n",
       "      <th></th>\n",
       "      <th>rated</th>\n",
       "      <th>turns</th>\n",
       "      <th>ended_as</th>\n",
       "      <th>winning_pieces</th>\n",
       "      <th>time_code</th>\n",
       "      <th>white_rating</th>\n",
       "      <th>black_rating</th>\n",
       "      <th>opening_code</th>\n",
       "      <th>opening_name</th>\n",
       "      <th>upset</th>\n",
       "    </tr>\n",
       "  </thead>\n",
       "  <tbody>\n",
       "    <tr>\n",
       "      <th>0</th>\n",
       "      <td>False</td>\n",
       "      <td>13</td>\n",
       "      <td>outoftime</td>\n",
       "      <td>white</td>\n",
       "      <td>15+2</td>\n",
       "      <td>1500</td>\n",
       "      <td>1191</td>\n",
       "      <td>D10</td>\n",
       "      <td>Slav Defense: Exchange Variation</td>\n",
       "      <td>False</td>\n",
       "    </tr>\n",
       "    <tr>\n",
       "      <th>1</th>\n",
       "      <td>True</td>\n",
       "      <td>16</td>\n",
       "      <td>resign</td>\n",
       "      <td>black</td>\n",
       "      <td>5+10</td>\n",
       "      <td>1322</td>\n",
       "      <td>1261</td>\n",
       "      <td>B00</td>\n",
       "      <td>Nimzowitsch Defense: Kennedy Variation</td>\n",
       "      <td>True</td>\n",
       "    </tr>\n",
       "    <tr>\n",
       "      <th>2</th>\n",
       "      <td>True</td>\n",
       "      <td>61</td>\n",
       "      <td>mate</td>\n",
       "      <td>white</td>\n",
       "      <td>5+10</td>\n",
       "      <td>1496</td>\n",
       "      <td>1500</td>\n",
       "      <td>C20</td>\n",
       "      <td>King's Pawn Game: Leonardis Variation</td>\n",
       "      <td>True</td>\n",
       "    </tr>\n",
       "    <tr>\n",
       "      <th>3</th>\n",
       "      <td>True</td>\n",
       "      <td>61</td>\n",
       "      <td>mate</td>\n",
       "      <td>white</td>\n",
       "      <td>20+0</td>\n",
       "      <td>1439</td>\n",
       "      <td>1454</td>\n",
       "      <td>D02</td>\n",
       "      <td>Queen's Pawn Game: Zukertort Variation</td>\n",
       "      <td>True</td>\n",
       "    </tr>\n",
       "    <tr>\n",
       "      <th>4</th>\n",
       "      <td>True</td>\n",
       "      <td>95</td>\n",
       "      <td>mate</td>\n",
       "      <td>white</td>\n",
       "      <td>30+3</td>\n",
       "      <td>1523</td>\n",
       "      <td>1469</td>\n",
       "      <td>C41</td>\n",
       "      <td>Philidor Defense</td>\n",
       "      <td>False</td>\n",
       "    </tr>\n",
       "  </tbody>\n",
       "</table>\n",
       "</div>"
      ],
      "text/plain": [
       "   rated  turns   ended_as winning_pieces time_code  white_rating  \\\n",
       "0  False     13  outoftime          white      15+2          1500   \n",
       "1   True     16     resign          black      5+10          1322   \n",
       "2   True     61       mate          white      5+10          1496   \n",
       "3   True     61       mate          white      20+0          1439   \n",
       "4   True     95       mate          white      30+3          1523   \n",
       "\n",
       "   black_rating opening_code                            opening_name  upset  \n",
       "0          1191          D10        Slav Defense: Exchange Variation  False  \n",
       "1          1261          B00  Nimzowitsch Defense: Kennedy Variation   True  \n",
       "2          1500          C20   King's Pawn Game: Leonardis Variation   True  \n",
       "3          1454          D02  Queen's Pawn Game: Zukertort Variation   True  \n",
       "4          1469          C41                        Philidor Defense  False  "
      ]
     },
     "execution_count": 9,
     "metadata": {},
     "output_type": "execute_result"
    }
   ],
   "source": [
    "df.head()"
   ]
  },
  {
   "cell_type": "markdown",
   "id": "inner-tract",
   "metadata": {},
   "source": [
    "### Examine Object Variables"
   ]
  },
  {
   "cell_type": "code",
   "execution_count": 10,
   "id": "focused-monitor",
   "metadata": {
    "scrolled": false
   },
   "outputs": [
    {
     "data": {
      "image/png": "[encoded data removed]",
      "text/plain": [
       "<Figure size 432x288 with 1 Axes>"
      ]
     },
     "metadata": {
      "needs_background": "light"
     },
     "output_type": "display_data"
    },
    {
     "data": {
      "image/png": "[encoded data removed]",
      "text/plain": [
       "<Figure size 432x288 with 1 Axes>"
      ]
     },
     "metadata": {
      "needs_background": "light"
     },
     "output_type": "display_data"
    },
    {
     "data": {
      "image/png": "[encoded data removed]",
      "text/plain": [
       "<Figure size 432x288 with 1 Axes>"
      ]
     },
     "metadata": {
      "needs_background": "light"
     },
     "output_type": "display_data"
    },
    {
     "data": {
      "image/png": "[encoded data removed]",
      "text/plain": [
       "<Figure size 432x288 with 1 Axes>"
      ]
     },
     "metadata": {
      "needs_background": "light"
     },
     "output_type": "display_data"
    },
    {
     "data": {
      "image/png": "[encoded data removed]",
      "text/plain": [
       "<Figure size 432x288 with 1 Axes>"
      ]
     },
     "metadata": {
      "needs_background": "light"
     },
     "output_type": "display_data"
    },
    {
     "data": {
      "image/png": "[encoded data removed]",
      "text/plain": [
       "<Figure size 432x288 with 1 Axes>"
      ]
     },
     "metadata": {
      "needs_background": "light"
     },
     "output_type": "display_data"
    }
   ],
   "source": [
    "# distribution of the data\n",
    "columns = ['ended_as', 'winning_pieces', \n",
    "           'time_code', 'opening_code', \n",
    "           'opening_name', 'upset']\n",
    "\n",
    "for col in columns:\n",
    "    \n",
    "    df[col].value_counts().plot(kind='bar', title = f\"{col} distribution\")\n",
    "    \n",
    "    plt.show()"
   ]
  },
  {
   "cell_type": "markdown",
   "id": "generous-terrorism",
   "metadata": {},
   "source": [
    "### Takeaways\n",
    "\n",
    "* Resignations usually happen when mate is enevitable I see no reason to seperate the two\n",
    "* I wonder if running out of time has an effect on upsets? \n",
    "* White does have an advantage, though it is much smaller than I thought it would be, at about 10% higher number of wins than black\n",
    "* time_code, opening_code, and opening_name, have too many values to sort through at the moment and will have to be binned or pruened\n",
    "* upsets represent about 1/3 or the data, which is higher than I thought it would be"
   ]
  },
  {
   "cell_type": "markdown",
   "id": "nominated-stocks",
   "metadata": {},
   "source": [
    "### Examine Quantitative Variables"
   ]
  },
  {
   "cell_type": "code",
   "execution_count": 11,
   "id": "former-wings",
   "metadata": {},
   "outputs": [
    {
     "data": {
      "image/png": "[encoded data removed]",
      "text/plain": [
       "<Figure size 432x288 with 1 Axes>"
      ]
     },
     "metadata": {
      "needs_background": "light"
     },
     "output_type": "display_data"
    },
    {
     "data": {
      "image/png": "[encoded data removed]",
      "text/plain": [
       "<Figure size 432x288 with 1 Axes>"
      ]
     },
     "metadata": {
      "needs_background": "light"
     },
     "output_type": "display_data"
    },
    {
     "data": {
      "image/png": "[encoded data removed]",
      "text/plain": [
       "<Figure size 432x288 with 1 Axes>"
      ]
     },
     "metadata": {
      "needs_background": "light"
     },
     "output_type": "display_data"
    }
   ],
   "source": [
    "# distribution of the data\n",
    "cols = ['turns', 'white_rating', 'black_rating']\n",
    "\n",
    "for col in cols:\n",
    "    plt.hist(df[col])\n",
    "    plt.title(col+' distripution')\n",
    "    plt.show()"
   ]
  },
  {
   "cell_type": "markdown",
   "id": "indian-catalyst",
   "metadata": {},
   "source": [
    "### Takeaways\n",
    "\n",
    "* Turns is slightly right skewed \n",
    "* Black and white rating distributions are pretty normally distributed and are nearly if not entierly identical"
   ]
  },
  {
   "cell_type": "code",
   "execution_count": 12,
   "id": "prescribed-brain",
   "metadata": {},
   "outputs": [
    {
     "data": {
      "text/plain": [
       "10+0       7721\n",
       "15+0       1311\n",
       "15+15       850\n",
       "5+5         738\n",
       "5+8         697\n",
       "           ... \n",
       "120+1         1\n",
       "1+45          1\n",
       "30+7          1\n",
       "60+4          1\n",
       "120+180       1\n",
       "Name: time_code, Length: 400, dtype: int64"
      ]
     },
     "execution_count": 12,
     "metadata": {},
     "output_type": "execute_result"
    }
   ],
   "source": [
    "df.time_code.value_counts()"
   ]
  },
  {
   "cell_type": "markdown",
   "id": "representative-wagner",
   "metadata": {},
   "source": [
    "### I'm goint to try to prune the object columns by removing the values that do not have a significant represintation I an setting my trial cut off point at 50 or more occurrences "
   ]
  },
  {
   "cell_type": "code",
   "execution_count": 13,
   "id": "finnish-insertion",
   "metadata": {},
   "outputs": [
    {
     "name": "stdout",
     "output_type": "stream",
     "text": [
      "ENDED_AS\n",
      "resign       11147\n",
      "mate          6325\n",
      "outoftime     1680\n",
      "draw           906\n",
      "Name: ended_as, dtype: int64\n",
      "\n",
      "WINNING_PIECES\n",
      "white    10001\n",
      "black     9107\n",
      "draw       950\n",
      "Name: winning_pieces, dtype: int64\n",
      "\n",
      "TIME_CODE\n",
      "10+0       7721\n",
      "15+0       1311\n",
      "15+15       850\n",
      "5+5         738\n",
      "5+8         697\n",
      "           ... \n",
      "120+1         1\n",
      "1+45          1\n",
      "30+7          1\n",
      "60+4          1\n",
      "120+180       1\n",
      "Name: time_code, Length: 400, dtype: int64\n",
      "\n",
      "OPENING_CODE\n",
      "A00    1007\n",
      "C00     844\n",
      "D00     739\n",
      "B01     716\n",
      "C41     691\n",
      "       ... \n",
      "A59       1\n",
      "A89       1\n",
      "E03       1\n",
      "D59       1\n",
      "E44       1\n",
      "Name: opening_code, Length: 365, dtype: int64\n",
      "\n",
      "OPENING_NAME\n",
      "Van't Kruijs Opening                                                      368\n",
      "Sicilian Defense                                                          358\n",
      "Sicilian Defense: Bowdler Attack                                          296\n",
      "Scotch Game                                                               271\n",
      "French Defense: Knight Variation                                          271\n",
      "                                                                         ... \n",
      "Ruy Lopez: Classical Variation |  Modern Main Line                          1\n",
      "Englund Gambit Complex: Soller Gambit Deferred                              1\n",
      "Sicilian Defense: Dragon Variation |  Levenfish Variation |  Main Line      1\n",
      "Russian Game: Classical Attack |  Staunton Variation                        1\n",
      "Sicilian Defense: Scheveningen Variation |  English Attack                  1\n",
      "Name: opening_name, Length: 1477, dtype: int64\n",
      "\n",
      "UPSET\n",
      "False    13492\n",
      "True      6566\n",
      "Name: upset, dtype: int64\n",
      "\n"
     ]
    }
   ],
   "source": [
    "columns = ['ended_as', 'winning_pieces', \n",
    "           'time_code', 'opening_code', \n",
    "           'opening_name', 'upset']\n",
    "\n",
    "for col in columns:\n",
    "    \n",
    "    print(col.upper())\n",
    "    print(df[col].value_counts())\n",
    "    print()"
   ]
  },
  {
   "cell_type": "code",
   "execution_count": 14,
   "id": "strong-mapping",
   "metadata": {},
   "outputs": [
    {
     "data": {
      "text/plain": [
       "rated             0\n",
       "turns             0\n",
       "ended_as          0\n",
       "winning_pieces    0\n",
       "time_code         0\n",
       "white_rating      0\n",
       "black_rating      0\n",
       "opening_code      0\n",
       "opening_name      0\n",
       "upset             0\n",
       "dtype: int64"
      ]
     },
     "execution_count": 14,
     "metadata": {},
     "output_type": "execute_result"
    }
   ],
   "source": [
    "df.isnull().sum()"
   ]
  },
  {
   "cell_type": "code",
   "execution_count": 22,
   "id": "complimentary-highway",
   "metadata": {
    "scrolled": false
   },
   "outputs": [
    {
     "name": "stdout",
     "output_type": "stream",
     "text": [
      "ENDED_AS\n",
      "{'mate', 'outoftime', 'resign', 'draw'}\n",
      "Length: 4\n",
      "~~~~~~~~~~~~~~~~~~~~~~~~~~~~~~~~~~~~~~~~~~~~~~~~~\n",
      "\n",
      "WINNING_PIECES\n",
      "{'black', 'white', 'draw'}\n",
      "Length: 3\n",
      "~~~~~~~~~~~~~~~~~~~~~~~~~~~~~~~~~~~~~~~~~~~~~~~~~\n",
      "\n",
      "TIME_CODE\n",
      "{'10+3', '8+0', '10+5', '10+10', '15+10', '30+0', '25+0', '10+0', '5+10', '5+8', '15+5', '5+5', '7+2', '10+2', '15+0', '20+0', '15+15'}\n",
      "Length: 17\n",
      "~~~~~~~~~~~~~~~~~~~~~~~~~~~~~~~~~~~~~~~~~~~~~~~~~\n",
      "\n",
      "OPENING_CODE\n",
      "{'A40', 'C41', 'B54', 'B00', 'B13', 'C62', 'C42', 'C46', 'B21', 'B07', 'C24', 'B22', 'C44', 'B12', 'A20', 'B30', 'B40', 'A45', 'C45', 'C55', 'C50', 'C20', 'D06', 'D20', 'B10', 'B06', 'B50', 'A00', 'D01', 'C01', 'C40', 'C23', 'B23', 'A03', 'D30', 'B01', 'D00', 'C65', 'C00', 'A02', 'B20', 'D02'}\n",
      "Length: 42\n",
      "~~~~~~~~~~~~~~~~~~~~~~~~~~~~~~~~~~~~~~~~~~~~~~~~~\n",
      "\n",
      "OPENING_NAME\n",
      "{'Sicilian Defense: Closed Variation', \"King's Knight Opening\", 'French Defense: Exchange Variation', 'Sicilian Defense: Nyezhmetdinov-Rossolimo Attack', 'Philidor Defense', 'Pirc Defense #4', 'Italian Game: Giuoco Pianissimo |  Italian Four Knights Variation', 'Sicilian Defense: Smith-Morra Gambit #2', \"King's Knight Opening: Normal Variation\", \"King's Pawn Game: Wayward Queen Attack\", \"Van't Kruijs Opening\", 'Italian Game: Anti-Fried Liver Defense', \"Bishop's Opening\", 'Scandinavian Defense: Main Line', 'Sicilian Defense: French Variation', 'Three Knights Opening', 'Modern Defense', \"Queen's Gambit Refused: Marshall Defense\", 'Owen Defense', \"Queen's Pawn Game\", 'Russian Game: Urusov Gambit', \"Queen's Gambit Accepted: Old Variation\", 'Caro-Kann Defense: Advance Variation', 'Philidor Defense #3', 'Indian Game', \"Italian Game: Two Knights Defense |  Modern Bishop's Opening\", 'French Defense #2', 'Giuoco Piano', 'Sicilian Defense #2', 'Sicilian Defense: McDonnell Attack', 'Horwitz Defense', \"King's Pawn Game: Leonardis Variation\", 'French Defense: Normal Variation', 'Scotch Game', \"Queen's Gambit Declined\", \"King's Pawn Game: Damiano Defense\", 'Hungarian Opening', 'Sicilian Defense: Bowdler Attack', 'Italian Game', 'Sicilian Defense: Alapin Variation', \"English Opening: King's English Variation\", 'Scandinavian Defense', 'Philidor Defense #2', \"Queen's Pawn Game: Zukertort Variation\", \"Queen's Pawn Game: Mason Attack\", 'Sicilian Defense: Old Sicilian', 'Sicilian Defense', 'Bird Opening', 'Caro-Kann Defense', \"Queen's Pawn Game #2\", \"Queen's Pawn Game: Chigorin Variation\", 'French Defense: Knight Variation', 'Scandinavian Defense: Mieses-Kotroc Variation', 'Ruy Lopez: Berlin Defense #2', \"King's Pawn Game: McConnell Defense\", \"Queen's Pawn Game: London System\", \"Queen's Pawn\", 'Bird Opening: Dutch Variation', 'Caro-Kann Defense: Exchange Variation', 'Russian Game: Three Knights Game', \"Bishop's Opening: Berlin Defense\", 'Ruy Lopez: Steinitz Defense', 'Mieses Opening', 'Four Knights Game: Italian Variation'}\n",
      "Length: 64\n",
      "~~~~~~~~~~~~~~~~~~~~~~~~~~~~~~~~~~~~~~~~~~~~~~~~~\n",
      "\n",
      "UPSET\n",
      "{False, True}\n",
      "Length: 2\n",
      "~~~~~~~~~~~~~~~~~~~~~~~~~~~~~~~~~~~~~~~~~~~~~~~~~\n",
      "\n",
      "VALUE COUNTS\n",
      "VALUE COUNTS\n",
      "ENDED_AS\n",
      "resign       3518\n",
      "mate         2222\n",
      "outoftime     572\n",
      "draw          271\n",
      "Name: ended_as, dtype: int64\n",
      "~~~~~~~~~~~~~~~~~~~~~~~~~~~~~~~~~~~~~~~~~~~~~~~~~\n",
      "\n",
      "VALUE COUNTS\n",
      "WINNING_PIECES\n",
      "white    3226\n",
      "black    3067\n",
      "draw      290\n",
      "Name: winning_pieces, dtype: int64\n",
      "~~~~~~~~~~~~~~~~~~~~~~~~~~~~~~~~~~~~~~~~~~~~~~~~~\n",
      "\n",
      "VALUE COUNTS\n",
      "TIME_CODE\n",
      "10+0     3367\n",
      "15+0      520\n",
      "15+15     380\n",
      "5+8       324\n",
      "5+5       275\n",
      "8+0       266\n",
      "10+5      212\n",
      "20+0      210\n",
      "30+0      194\n",
      "15+10     166\n",
      "15+5      144\n",
      "10+10     133\n",
      "7+2       114\n",
      "10+2       74\n",
      "25+0       73\n",
      "5+10       69\n",
      "10+3       62\n",
      "Name: time_code, dtype: int64\n",
      "~~~~~~~~~~~~~~~~~~~~~~~~~~~~~~~~~~~~~~~~~~~~~~~~~\n",
      "\n",
      "VALUE COUNTS\n",
      "OPENING_CODE\n",
      "B01    407\n",
      "C41    404\n",
      "D00    403\n",
      "C00    382\n",
      "A00    360\n",
      "B20    344\n",
      "A40    289\n",
      "C50    279\n",
      "D02    251\n",
      "C20    244\n",
      "C40    205\n",
      "B30    188\n",
      "C55    188\n",
      "C44    163\n",
      "C46    146\n",
      "B21    140\n",
      "B50    137\n",
      "A45    131\n",
      "B00    126\n",
      "C42    122\n",
      "C45    115\n",
      "B10    113\n",
      "C62    108\n",
      "C23    107\n",
      "D30     96\n",
      "D06     91\n",
      "D20     89\n",
      "C01     87\n",
      "B07     77\n",
      "A20     74\n",
      "C24     73\n",
      "B12     71\n",
      "B06     63\n",
      "B54     62\n",
      "C65     61\n",
      "A03     60\n",
      "B23     57\n",
      "D01     55\n",
      "B13     55\n",
      "B40     54\n",
      "B22     53\n",
      "A02     53\n",
      "Name: opening_code, dtype: int64\n",
      "~~~~~~~~~~~~~~~~~~~~~~~~~~~~~~~~~~~~~~~~~~~~~~~~~\n",
      "\n",
      "VALUE COUNTS\n",
      "OPENING_NAME\n",
      "Sicilian Defense                                                263\n",
      "Sicilian Defense: Bowdler Attack                                229\n",
      "Scotch Game                                                     218\n",
      "Van't Kruijs Opening                                            213\n",
      "French Defense: Knight Variation                                208\n",
      "                                                               ... \n",
      "Sicilian Defense: Nyezhmetdinov-Rossolimo Attack                 52\n",
      "Bird Opening: Dutch Variation                                    52\n",
      "Sicilian Defense #2                                              51\n",
      "Caro-Kann Defense: Advance Variation                             51\n",
      "Italian Game: Two Knights Defense |  Modern Bishop's Opening     50\n",
      "Name: opening_name, Length: 64, dtype: int64\n",
      "~~~~~~~~~~~~~~~~~~~~~~~~~~~~~~~~~~~~~~~~~~~~~~~~~\n",
      "\n",
      "VALUE COUNTS\n",
      "UPSET\n",
      "False    4437\n",
      "True     2146\n",
      "Name: upset, dtype: int64\n",
      "~~~~~~~~~~~~~~~~~~~~~~~~~~~~~~~~~~~~~~~~~~~~~~~~~\n",
      "\n"
     ]
    }
   ],
   "source": [
    "columns = ['ended_as', 'winning_pieces', \n",
    "           'time_code', 'opening_code', \n",
    "           'opening_name', 'upset']\n",
    "\n",
    "for column in columns:\n",
    "    \n",
    "    value_set = set([value for value in set(df[column].to_list()) if df[column].value_counts()[value] > 50])\n",
    "    \n",
    "    print(column.upper())\n",
    "    print(value_set)\n",
    "    print('Length:', len(value_set))\n",
    "    print('~~~~~~~~~~~~~~~~~~~~~~~~~~~~~~~~~~~~~~~~~~~~~~~~~')\n",
    "    print()\n",
    "    \n",
    "    df[column] = df[column].apply(lambda value : value if value in value_set else np.nan)\n",
    "    \n",
    "df = df.dropna()\n",
    "    \n",
    "    \n",
    "print(\"VALUE COUNTS\")\n",
    "for column in columns:\n",
    "    \n",
    "    print(\"VALUE COUNTS\")\n",
    "    print(column.upper())\n",
    "    print(df[column].value_counts())\n",
    "    print('~~~~~~~~~~~~~~~~~~~~~~~~~~~~~~~~~~~~~~~~~~~~~~~~~')\n",
    "    print()"
   ]
  },
  {
   "cell_type": "code",
   "execution_count": 16,
   "id": "typical-participation",
   "metadata": {
    "scrolled": false
   },
   "outputs": [
    {
     "data": {
      "text/plain": [
       "(8196, 10)"
      ]
     },
     "execution_count": 16,
     "metadata": {},
     "output_type": "execute_result"
    }
   ],
   "source": [
    "df.shape"
   ]
  },
  {
   "cell_type": "code",
   "execution_count": 17,
   "id": "divine-bradford",
   "metadata": {},
   "outputs": [],
   "source": [
    "df.to_csv('games_preped.csv')"
   ]
  },
  {
   "cell_type": "code",
   "execution_count": 18,
   "id": "inclusive-lease",
   "metadata": {},
   "outputs": [],
   "source": [
    "df = pd.read_csv('games_preped.csv')"
   ]
  },
  {
   "cell_type": "code",
   "execution_count": 19,
   "id": "comparative-seeker",
   "metadata": {},
   "outputs": [
    {
     "data": {
      "text/html": [
       "<div>\n",
       "<style scoped>\n",
       "    .dataframe tbody tr th:only-of-type {\n",
       "        vertical-align: middle;\n",
       "    }\n",
       "\n",
       "    .dataframe tbody tr th {\n",
       "        vertical-align: top;\n",
       "    }\n",
       "\n",
       "    .dataframe thead th {\n",
       "        text-align: right;\n",
       "    }\n",
       "</style>\n",
       "<table border=\"1\" class=\"dataframe\">\n",
       "  <thead>\n",
       "    <tr style=\"text-align: right;\">\n",
       "      <th></th>\n",
       "      <th>Unnamed: 0</th>\n",
       "      <th>rated</th>\n",
       "      <th>turns</th>\n",
       "      <th>ended_as</th>\n",
       "      <th>winning_pieces</th>\n",
       "      <th>time_code</th>\n",
       "      <th>white_rating</th>\n",
       "      <th>black_rating</th>\n",
       "      <th>opening_code</th>\n",
       "      <th>opening_name</th>\n",
       "      <th>upset</th>\n",
       "    </tr>\n",
       "  </thead>\n",
       "  <tbody>\n",
       "    <tr>\n",
       "      <th>0</th>\n",
       "      <td>2</td>\n",
       "      <td>True</td>\n",
       "      <td>61</td>\n",
       "      <td>mate</td>\n",
       "      <td>white</td>\n",
       "      <td>5+10</td>\n",
       "      <td>1496</td>\n",
       "      <td>1500</td>\n",
       "      <td>C20</td>\n",
       "      <td>King's Pawn Game: Leonardis Variation</td>\n",
       "      <td>True</td>\n",
       "    </tr>\n",
       "    <tr>\n",
       "      <th>1</th>\n",
       "      <td>3</td>\n",
       "      <td>True</td>\n",
       "      <td>61</td>\n",
       "      <td>mate</td>\n",
       "      <td>white</td>\n",
       "      <td>20+0</td>\n",
       "      <td>1439</td>\n",
       "      <td>1454</td>\n",
       "      <td>D02</td>\n",
       "      <td>Queen's Pawn Game: Zukertort Variation</td>\n",
       "      <td>True</td>\n",
       "    </tr>\n",
       "    <tr>\n",
       "      <th>2</th>\n",
       "      <td>9</td>\n",
       "      <td>True</td>\n",
       "      <td>119</td>\n",
       "      <td>mate</td>\n",
       "      <td>white</td>\n",
       "      <td>10+0</td>\n",
       "      <td>1381</td>\n",
       "      <td>1209</td>\n",
       "      <td>B01</td>\n",
       "      <td>Scandinavian Defense: Mieses-Kotroc Variation</td>\n",
       "      <td>False</td>\n",
       "    </tr>\n",
       "    <tr>\n",
       "      <th>3</th>\n",
       "      <td>13</td>\n",
       "      <td>False</td>\n",
       "      <td>31</td>\n",
       "      <td>resign</td>\n",
       "      <td>black</td>\n",
       "      <td>8+0</td>\n",
       "      <td>1381</td>\n",
       "      <td>1607</td>\n",
       "      <td>C00</td>\n",
       "      <td>French Defense #2</td>\n",
       "      <td>False</td>\n",
       "    </tr>\n",
       "    <tr>\n",
       "      <th>4</th>\n",
       "      <td>14</td>\n",
       "      <td>False</td>\n",
       "      <td>31</td>\n",
       "      <td>mate</td>\n",
       "      <td>white</td>\n",
       "      <td>15+15</td>\n",
       "      <td>1094</td>\n",
       "      <td>1141</td>\n",
       "      <td>C50</td>\n",
       "      <td>Four Knights Game: Italian Variation</td>\n",
       "      <td>True</td>\n",
       "    </tr>\n",
       "    <tr>\n",
       "      <th>...</th>\n",
       "      <td>...</td>\n",
       "      <td>...</td>\n",
       "      <td>...</td>\n",
       "      <td>...</td>\n",
       "      <td>...</td>\n",
       "      <td>...</td>\n",
       "      <td>...</td>\n",
       "      <td>...</td>\n",
       "      <td>...</td>\n",
       "      <td>...</td>\n",
       "      <td>...</td>\n",
       "    </tr>\n",
       "    <tr>\n",
       "      <th>8191</th>\n",
       "      <td>20050</td>\n",
       "      <td>True</td>\n",
       "      <td>9</td>\n",
       "      <td>outoftime</td>\n",
       "      <td>white</td>\n",
       "      <td>10+0</td>\n",
       "      <td>1243</td>\n",
       "      <td>1142</td>\n",
       "      <td>A20</td>\n",
       "      <td>English Opening: King's English Variation</td>\n",
       "      <td>False</td>\n",
       "    </tr>\n",
       "    <tr>\n",
       "      <th>8192</th>\n",
       "      <td>20051</td>\n",
       "      <td>True</td>\n",
       "      <td>58</td>\n",
       "      <td>mate</td>\n",
       "      <td>black</td>\n",
       "      <td>10+10</td>\n",
       "      <td>1237</td>\n",
       "      <td>1231</td>\n",
       "      <td>C00</td>\n",
       "      <td>French Defense: Knight Variation</td>\n",
       "      <td>True</td>\n",
       "    </tr>\n",
       "    <tr>\n",
       "      <th>8193</th>\n",
       "      <td>20054</td>\n",
       "      <td>True</td>\n",
       "      <td>82</td>\n",
       "      <td>mate</td>\n",
       "      <td>black</td>\n",
       "      <td>10+0</td>\n",
       "      <td>1233</td>\n",
       "      <td>1196</td>\n",
       "      <td>A41</td>\n",
       "      <td>Queen's Pawn</td>\n",
       "      <td>True</td>\n",
       "    </tr>\n",
       "    <tr>\n",
       "      <th>8194</th>\n",
       "      <td>20055</td>\n",
       "      <td>True</td>\n",
       "      <td>35</td>\n",
       "      <td>mate</td>\n",
       "      <td>white</td>\n",
       "      <td>10+0</td>\n",
       "      <td>1219</td>\n",
       "      <td>1286</td>\n",
       "      <td>D00</td>\n",
       "      <td>Queen's Pawn Game: Mason Attack</td>\n",
       "      <td>True</td>\n",
       "    </tr>\n",
       "    <tr>\n",
       "      <th>8195</th>\n",
       "      <td>20057</td>\n",
       "      <td>True</td>\n",
       "      <td>78</td>\n",
       "      <td>mate</td>\n",
       "      <td>black</td>\n",
       "      <td>10+0</td>\n",
       "      <td>1235</td>\n",
       "      <td>1339</td>\n",
       "      <td>D00</td>\n",
       "      <td>Queen's Pawn Game: Mason Attack</td>\n",
       "      <td>False</td>\n",
       "    </tr>\n",
       "  </tbody>\n",
       "</table>\n",
       "<p>8196 rows × 11 columns</p>\n",
       "</div>"
      ],
      "text/plain": [
       "      Unnamed: 0  rated  turns   ended_as winning_pieces time_code  \\\n",
       "0              2   True     61       mate          white      5+10   \n",
       "1              3   True     61       mate          white      20+0   \n",
       "2              9   True    119       mate          white      10+0   \n",
       "3             13  False     31     resign          black       8+0   \n",
       "4             14  False     31       mate          white     15+15   \n",
       "...          ...    ...    ...        ...            ...       ...   \n",
       "8191       20050   True      9  outoftime          white      10+0   \n",
       "8192       20051   True     58       mate          black     10+10   \n",
       "8193       20054   True     82       mate          black      10+0   \n",
       "8194       20055   True     35       mate          white      10+0   \n",
       "8195       20057   True     78       mate          black      10+0   \n",
       "\n",
       "      white_rating  black_rating opening_code  \\\n",
       "0             1496          1500          C20   \n",
       "1             1439          1454          D02   \n",
       "2             1381          1209          B01   \n",
       "3             1381          1607          C00   \n",
       "4             1094          1141          C50   \n",
       "...            ...           ...          ...   \n",
       "8191          1243          1142          A20   \n",
       "8192          1237          1231          C00   \n",
       "8193          1233          1196          A41   \n",
       "8194          1219          1286          D00   \n",
       "8195          1235          1339          D00   \n",
       "\n",
       "                                       opening_name  upset  \n",
       "0             King's Pawn Game: Leonardis Variation   True  \n",
       "1            Queen's Pawn Game: Zukertort Variation   True  \n",
       "2     Scandinavian Defense: Mieses-Kotroc Variation  False  \n",
       "3                                 French Defense #2  False  \n",
       "4              Four Knights Game: Italian Variation   True  \n",
       "...                                             ...    ...  \n",
       "8191      English Opening: King's English Variation  False  \n",
       "8192               French Defense: Knight Variation   True  \n",
       "8193                                   Queen's Pawn   True  \n",
       "8194                Queen's Pawn Game: Mason Attack   True  \n",
       "8195                Queen's Pawn Game: Mason Attack  False  \n",
       "\n",
       "[8196 rows x 11 columns]"
      ]
     },
     "execution_count": 19,
     "metadata": {},
     "output_type": "execute_result"
    }
   ],
   "source": [
    "df"
   ]
  },
  {
   "cell_type": "code",
   "execution_count": null,
   "id": "stone-reasoning",
   "metadata": {},
   "outputs": [],
   "source": []
  },
  {
   "cell_type": "code",
   "execution_count": null,
   "id": "scenic-partnership",
   "metadata": {},
   "outputs": [],
   "source": []
  },
  {
   "cell_type": "code",
   "execution_count": null,
   "id": "corresponding-angola",
   "metadata": {},
   "outputs": [],
   "source": []
  },
  {
   "cell_type": "code",
   "execution_count": null,
   "id": "wireless-europe",
   "metadata": {},
   "outputs": [],
   "source": []
  },
  {
   "cell_type": "code",
   "execution_count": null,
   "id": "portable-palestine",
   "metadata": {},
   "outputs": [],
   "source": []
  },
  {
   "cell_type": "code",
   "execution_count": null,
   "id": "single-diamond",
   "metadata": {},
   "outputs": [],
   "source": []
  },
  {
   "cell_type": "code",
   "execution_count": null,
   "id": "norman-inquiry",
   "metadata": {},
   "outputs": [],
   "source": []
  },
  {
   "cell_type": "code",
   "execution_count": null,
   "id": "daily-oliver",
   "metadata": {},
   "outputs": [],
   "source": []
  },
  {
   "cell_type": "code",
   "execution_count": null,
   "id": "automatic-alfred",
   "metadata": {},
   "outputs": [],
   "source": []
  }
 ],
 "metadata": {
  "kernelspec": {
   "display_name": "Python 3",
   "language": "python",
   "name": "python3"
  },
  "language_info": {
   "codemirror_mode": {
    "name": "ipython",
    "version": 3
   },
   "file_extension": ".py",
   "mimetype": "text/x-python",
   "name": "python",
   "nbconvert_exporter": "python",
   "pygments_lexer": "ipython3",
   "version": "3.7.4"
  }
 },
 "nbformat": 4,
 "nbformat_minor": 5
}
