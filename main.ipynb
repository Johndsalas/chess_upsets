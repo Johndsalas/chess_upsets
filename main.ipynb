{
 "cells": [
  {
   "cell_type": "markdown",
   "id": "passive-collect",
   "metadata": {},
   "source": [
    "# Goal: Find drivers of upsets in chess games and create a model to predict upsets \n",
    "\n",
    "* Upset is defined as a player with a lower rating winning a game agenst a player with a higher rating\n",
    "* Model should make a predictions after having 'interviewed' each player as to thier intended opening as white and what defence they intend to use against a given opening as black"
   ]
  },
  {
   "cell_type": "markdown",
   "id": "temporal-stomach",
   "metadata": {},
   "source": [
    "### Initial Thoughts\n",
    "\n",
    "<br>\n",
    "\n",
    "* Going into this project I am of two minds.\n",
    "\n",
    "<br>\n",
    "\n",
    "**First**\n",
    "* Chess is a skill based game with no random elements (except assigning first move). \n",
    "* Because of this the player with the highest level of skill will win any game not determined by variation in player performance. \n",
    "* Because of this a given game will be won by the player with the highest level of skill a large majority of the time.\n",
    "* If this is true conditions underwhich variation in performance is the highest should result in the highest likelyhood of an upset.\n",
    "\n",
    "<br>\n",
    "\n",
    "**Second**\n",
    "* It may also be the case that more skilled players are able to maintain consistancy better than less skilled players under conditions that would increased variation in thier performance.\n",
    "* If this is true, those conditions may make upsets less likely as the variance would have a grater effect on the the less skilled player than on the more skilled player.\n",
    "\n",
    "<br>\n",
    "\n",
    "**Moving Forward**\n",
    "* Though these two schools of thought may point at differing conclutions, both seem grounded in reason and I am eager to see what the data can tell us\n",
    "\n",
    "### Initial Hypothisese About Drivers\n",
    "\n",
    "* There will be few instances of upsets, possibly leading to an imbalanced data set\n",
    "* As ratings for both players increase, the likelyhood of an upset will decrease \n",
    "* As the margin between player ratings increase the likelyhood of an upsets will decrease\n",
    "* Shorter time incraments will increase the likelyhood of an upset\n",
    "* Unranked games will have a higher likelyhood of an upset than ranked games\n",
    "* Games where the higher rated player is moving the white pieces (gaining first move advantage) will have a decreased likelyhood of of an upset\n",
    "* Some opening/defense stratagies may be more or less prone to upsets\n",
    "* openings/defences that are more popular or perfered by higher rated players may be more/less prone to upset"
   ]
  },
  {
   "cell_type": "markdown",
   "id": "recognized-insertion",
   "metadata": {},
   "source": [
    "# Imports"
   ]
  },
  {
   "cell_type": "code",
   "execution_count": 1,
   "id": "following-steam",
   "metadata": {},
   "outputs": [],
   "source": [
    "import pandas as pd\n",
    "import numpy as np\n",
    "\n",
    "import matplotlib.pyplot as plt\n",
    "import seaborn as sns\n",
    "import os\n",
    "\n",
    "from sklearn.model_selection import train_test_split\n",
    "import sklearn.preprocessing\n",
    "\n",
    "import warnings\n",
    "warnings.filterwarnings(\"ignore\")\n",
    "\n",
    "from scipy import stats\n",
    "import re\n",
    "\n",
    "import wrangle as w"
   ]
  },
  {
   "cell_type": "markdown",
   "id": "further-swimming",
   "metadata": {},
   "source": [
    "# Acquire\n",
    "\n",
    "* Data acquired from Kaggle at https://www.kaggle.com/datasnaek/chess\n",
    "* It contained 20,058 rows and 9 columns before cleaning\n",
    "* Each row represents a chess game played on Lichess.org\n",
    "* Each column represents a feature of those games"
   ]
  },
  {
   "cell_type": "markdown",
   "id": "strategic-steering",
   "metadata": {},
   "source": [
    "# Prepare\n",
    "\n",
    "**Data was very clean initially, I performed the following steps to insure that is was ready for exploration:**\n",
    "* Removed columns that did not contain useful information\\* \n",
    "* Renamed columns to premote readability\\*\n",
    "* Checked for nulls in the data (there were none)\n",
    "* Checked that column data types were apropriate\n",
    "* Removed white space from values in object columns\n",
    "* There were no rows lost during preperation\n",
    "* Added Target column 'upset' indicating weather the lower rated player won the game\n",
    "* Added additional features to investigate (columns that could be calculated one row at a time)\\*\n",
    "* Split data into train, validate and test (approx. 60/20/20), stratifying on 'upset'\n",
    "* Added additional features to investigate (columns that requiered an aggregate calculation by column)\\*\n",
    "* aggregat calculations were performed on train data\n",
    "* resulting calculations were then applied to create columns in train, validate, and test data.\n",
    "\n",
    "\\* See data dictionary for full list of column names"
   ]
  },
  {
   "cell_type": "code",
   "execution_count": 2,
   "id": "pressing-legislation",
   "metadata": {},
   "outputs": [],
   "source": [
    "# acquiring, cleaning, and adding pre-split features to data\n",
    "df = w.wrangle_chess_data(reprep = True)\n",
    "\n",
    "# Splitting data into train, validate, and test\n",
    "train, validate, test = w.split_my_data(df)"
   ]
  },
  {
   "cell_type": "code",
   "execution_count": 3,
   "id": "informed-spirit",
   "metadata": {},
   "outputs": [
    {
     "data": {
      "text/plain": [
       "Index(['rated', 'victory_status', 'winning_pieces', 'time_increment',\n",
       "       'white_rating', 'black_rating', 'opening_name', 'upset', 'rating_dif',\n",
       "       'game_rating', 'lower_rated_white', 'time_control_group'],\n",
       "      dtype='object')"
      ]
     },
     "execution_count": 3,
     "metadata": {},
     "output_type": "execute_result"
    }
   ],
   "source": [
    "train.columns"
   ]
  },
  {
   "cell_type": "markdown",
   "id": "local-paper",
   "metadata": {},
   "source": [
    "# Explore"
   ]
  },
  {
   "cell_type": "markdown",
   "id": "considerable-attendance",
   "metadata": {},
   "source": [
    "## How often do upsets occur?"
   ]
  },
  {
   "cell_type": "code",
   "execution_count": 4,
   "id": "governing-resident",
   "metadata": {
    "scrolled": true
   },
   "outputs": [
    {
     "data": {
      "image/png": "[encoded data removed]",
      "text/plain": [
       "<Figure size 432x288 with 1 Axes>"
      ]
     },
     "metadata": {},
     "output_type": "display_data"
    }
   ],
   "source": [
    "values = [len(train.upset[train.upset == True]), len(train.upset[train.upset == False])] \n",
    "labels = ['Upset','Non-Upset', ] \n",
    "plt.pie(values, labels=labels, autopct='%.0f%%')\n",
    "plt.title('Games Ending in Upsets Represent 1/3 of the test data')\n",
    "plt.show()"
   ]
  },
  {
   "cell_type": "markdown",
   "id": "continued-committee",
   "metadata": {},
   "source": [
    "**About 1/3 of games will end in an upset** <br>\n",
    "This is much higher than I expected and may be do to the Lichess.org matching system pairing similarly rated players for matches."
   ]
  },
  {
   "cell_type": "markdown",
   "id": "wound-gothic",
   "metadata": {},
   "source": [
    "## Dose first turn advantage effect upsets?"
   ]
  },
  {
   "cell_type": "code",
   "execution_count": 5,
   "id": "cordless-environment",
   "metadata": {},
   "outputs": [
    {
     "data": {
      "image/png": "[encoded data removed]",
      "text/plain": [
       "<Figure size 720x720 with 2 Axes>"
      ]
     },
     "metadata": {},
     "output_type": "display_data"
    }
   ],
   "source": [
    "fig, (ax1,ax2) = plt.subplots(1,2,figsize=(10,10))\n",
    "#fig.suptitle('Upset Percentage is 4% Higher in Games Where the Lower Rated Player has the First Move')\n",
    "\n",
    "values = [len(train.upset[(train.lower_rated_white == True) & (train.upset == True)]),\n",
    "          len(train.upset[(train.lower_rated_white == True) & (train.upset == False)])]\n",
    "labels = ['Upset', 'Non-Upset']\n",
    "\n",
    "ax1.pie(values, labels=labels, autopct='%.0f%%')\n",
    "ax1.title.set_text('Lower Rated Player has First Move')\n",
    "\n",
    "values = [len(train.upset[(train.lower_rated_white == False) & (train.upset == True)]),\n",
    "          len(train.upset[(train.lower_rated_white == False) & (train.upset == False)])]\n",
    "labels = ['Upset', 'Non-Upset'] \n",
    "\n",
    "ax2.pie(values, labels=labels, autopct='%.0f%%')\n",
    "ax2.title.set_text('Higher Rated Player has First Move')\n",
    "\n",
    "plt.show()"
   ]
  },
  {
   "cell_type": "markdown",
   "id": "geographic-nursing",
   "metadata": {},
   "source": [
    "**Upset Percentage is 4% Higher in Games Where the Lower Rated Player has the First Move.** <br>\n",
    "This is lower than I expected. I will now use a chi-square test to investigate whether this pattern will hold for the total population of chess games.\n",
    "\n"
   ]
  },
  {
   "cell_type": "markdown",
   "id": "acknowledged-subscriber",
   "metadata": {},
   "source": [
    "**Ho: \"Games ending in Upset\" and \"The lower ranked player having the first move\" are independant of one another.** \n",
    "\n",
    "**Ha: \"Games ending in Upset\" and \"The lower ranked player having the first move\" are dependant on one another.**\n",
    "\n",
    "**I will be using a confidance interval of 95% resulting an an alpha of .05.**"
   ]
  },
  {
   "cell_type": "code",
   "execution_count": 12,
   "id": "presidential-guarantee",
   "metadata": {},
   "outputs": [
    {
     "name": "stdout",
     "output_type": "stream",
     "text": [
      "chi^2 = 24.9953\n",
      "p     = 0.0000\n"
     ]
    }
   ],
   "source": [
    "observed = pd.crosstab(train.lower_rated_white, train.upset)\n",
    "\n",
    "chi2, p, degf, expected = stats.chi2_contingency(observed)\n",
    "\n",
    "print(f'chi^2 = {chi2:.4f}')\n",
    "print(f'p     = {p:.4f}')"
   ]
  },
  {
   "cell_type": "markdown",
   "id": "cognitive-brook",
   "metadata": {},
   "source": [
    "**Because our P value is less than our alpha we can conclude that there is a high likelyhood that \"Games ending in Upset\" and \"The lower ranked player having the first move\" are dependant on one another. For this reason I expect to see the same 4% difference observed in our sampe to be reflected in the total population of chess games. For that reason, I believe that \"lower rated player has fist move\" is a benificial feature to model on**"
   ]
  },
  {
   "cell_type": "markdown",
   "id": "environmental-longitude",
   "metadata": {},
   "source": [
    "## Does a game being rated effect upsets?"
   ]
  },
  {
   "cell_type": "code",
   "execution_count": 13,
   "id": "informed-encyclopedia",
   "metadata": {},
   "outputs": [
    {
     "data": {
      "image/png": "[encoded data removed]",
      "text/plain": [
       "<Figure size 720x720 with 2 Axes>"
      ]
     },
     "metadata": {},
     "output_type": "display_data"
    }
   ],
   "source": [
    "fig, (ax1,ax2) = plt.subplots(1,2,figsize=(10,10))\n",
    "#fig.suptitle('Upset Percentage is 4% Higher in Games Where the Lower Rated Player has the First Move')\n",
    "\n",
    "values = [len(train.upset[(train.rated == True) & (train.upset == True)]),\n",
    "          len(train.upset[(train.rated == True) & (train.upset == False)])]\n",
    "labels = ['Upset', 'Non-Upset']\n",
    "\n",
    "ax1.pie(values, labels=labels, autopct='%.0f%%')\n",
    "ax1.title.set_text('Game is Rated')\n",
    "\n",
    "values = [len(train.upset[(train.rated == False) & (train.upset == True)]),\n",
    "          len(train.upset[(train.rated == False) & (train.upset == False)])]\n",
    "labels = ['Upset', 'Non-Upset'] \n",
    "\n",
    "ax2.pie(values, labels=labels, autopct='%.0f%%')\n",
    "ax2.title.set_text('Game is not Rated')\n",
    "\n",
    "plt.show()"
   ]
  },
  {
   "cell_type": "markdown",
   "id": "going-bulgaria",
   "metadata": {},
   "source": [
    "**Rated games show no difference in the percentage of upsets compared to the full sample population. <br>\n",
    "Unrated games show a 3% fewer upsets compared to the sample population.** <br>\n",
    "I would have guessed that rated games had fewer upsets, but that seems not to be the case. <br>\n",
    "I wil now use a chi-square test to see if this patern is likely to hold for the entire population of chess games"
   ]
  },
  {
   "cell_type": "markdown",
   "id": "third-presence",
   "metadata": {},
   "source": [
    "**Ho: \"Game is rated\" and \"Game ended in Upset\" are independant of one another.** \n",
    "\n",
    "**Ha: \"Game is rated\" and \"Game ended in Upset\" are dependant of one another.**\n",
    "\n",
    "**I will be using a confidance interval of 95% resulting an an alpha of .05.**"
   ]
  },
  {
   "cell_type": "code",
   "execution_count": 14,
   "id": "dangerous-groove",
   "metadata": {},
   "outputs": [
    {
     "name": "stdout",
     "output_type": "stream",
     "text": [
      "chi^2 = 11.7329\n",
      "p     = 0.0006\n"
     ]
    }
   ],
   "source": [
    "observed = pd.crosstab(train.rated, train.upset)\n",
    "\n",
    "chi2, p, degf, expected = stats.chi2_contingency(observed)\n",
    "\n",
    "print(f'chi^2 = {chi2:.4f}')\n",
    "print(f'p     = {p:.4f}')"
   ]
  },
  {
   "cell_type": "markdown",
   "id": "fuzzy-tsunami",
   "metadata": {},
   "source": [
    "**Because our P value is less than our alpha we can conclude that there is a high likelyhood that \"Games ending in Upset\" and \"Game is rated\" are dependant on one another. For this reason I expect to see the same 3% difference observed in our sampe to be reflected in the total population of chess games. For that reason, I believe that \"Game is rated\" is a benificial feature to model on.**"
   ]
  },
  {
   "cell_type": "markdown",
   "id": "agreed-finance",
   "metadata": {},
   "source": [
    "## Does player rating have an effect on upsets?"
   ]
  },
  {
   "cell_type": "code",
   "execution_count": 22,
   "id": "banned-timer",
   "metadata": {},
   "outputs": [
    {
     "data": {
      "text/plain": [
       "1586.695403861844"
      ]
     },
     "execution_count": 22,
     "metadata": {},
     "output_type": "execute_result"
    }
   ],
   "source": [
    "game_ratng_upsets = train.game_rating[(train.upset == True)].mean()\n",
    "game_ratng_upsets"
   ]
  },
  {
   "cell_type": "code",
   "execution_count": 23,
   "id": "special-shore",
   "metadata": {},
   "outputs": [
    {
     "data": {
      "text/plain": [
       "1592.3438782263402"
      ]
     },
     "execution_count": 23,
     "metadata": {},
     "output_type": "execute_result"
    }
   ],
   "source": [
    "game_rating_nonupsets = train.game_rating[(train.upset == False)].mean()\n",
    "game_rating_nonupsets"
   ]
  },
  {
   "cell_type": "code",
   "execution_count": 25,
   "id": "prerequisite-stereo",
   "metadata": {},
   "outputs": [
    {
     "name": "stdout",
     "output_type": "stream",
     "text": [
      "70933.43905273586\n",
      "64131.140057759905\n"
     ]
    }
   ],
   "source": [
    "print(train.game_rating[(train.upset == False)].var())\n",
    "print(train.game_rating[(train.upset == True)].var())"
   ]
  },
  {
   "cell_type": "code",
   "execution_count": 27,
   "id": "increasing-drilling",
   "metadata": {},
   "outputs": [
    {
     "data": {
      "text/plain": [
       "Ttest_indResult(statistic=-1.071684204242657, pvalue=0.28388492819717703)"
      ]
     },
     "execution_count": 27,
     "metadata": {},
     "output_type": "execute_result"
    }
   ],
   "source": [
    "stats.ttest_ind(train.game_rating[(train.upset == True)], train.game_rating[(train.upset == False)], equal_var=True)"
   ]
  },
  {
   "cell_type": "code",
   "execution_count": null,
   "id": "adult-worse",
   "metadata": {},
   "outputs": [],
   "source": []
  },
  {
   "cell_type": "markdown",
   "id": "sunset-catch",
   "metadata": {},
   "source": [
    "## Does time block effect upsets?"
   ]
  },
  {
   "cell_type": "code",
   "execution_count": 15,
   "id": "orange-employer",
   "metadata": {},
   "outputs": [
    {
     "data": {
      "text/plain": [
       "10     5319\n",
       "15     1894\n",
       "5       980\n",
       "8       534\n",
       "20      529\n",
       "30      400\n",
       "7       363\n",
       "25      179\n",
       "9       141\n",
       "12      129\n",
       "6       102\n",
       "45       89\n",
       "180      82\n",
       "60       55\n",
       "11       51\n",
       "13       44\n",
       "14       38\n",
       "3        35\n",
       "2        35\n",
       "16       32\n",
       "4        30\n",
       "0        27\n",
       "17       25\n",
       "40       25\n",
       "1        18\n",
       "19       17\n",
       "18       16\n",
       "35       12\n",
       "90       11\n",
       "120      10\n",
       "150       8\n",
       "21        1\n",
       "29        1\n",
       "Name: time_control_group, dtype: int64"
      ]
     },
     "execution_count": 15,
     "metadata": {},
     "output_type": "execute_result"
    }
   ],
   "source": [
    "train.time_control_group.value_counts()"
   ]
  },
  {
   "cell_type": "code",
   "execution_count": null,
   "id": "outside-attraction",
   "metadata": {},
   "outputs": [],
   "source": []
  },
  {
   "cell_type": "code",
   "execution_count": null,
   "id": "incident-reducing",
   "metadata": {},
   "outputs": [],
   "source": []
  },
  {
   "cell_type": "code",
   "execution_count": null,
   "id": "electric-shuttle",
   "metadata": {},
   "outputs": [],
   "source": []
  },
  {
   "cell_type": "code",
   "execution_count": null,
   "id": "faced-jumping",
   "metadata": {},
   "outputs": [],
   "source": []
  }
 ],
 "metadata": {
  "kernelspec": {
   "display_name": "Python 3",
   "language": "python",
   "name": "python3"
  },
  "language_info": {
   "codemirror_mode": {
    "name": "ipython",
    "version": 3
   },
   "file_extension": ".py",
   "mimetype": "text/x-python",
   "name": "python",
   "nbconvert_exporter": "python",
   "pygments_lexer": "ipython3",
   "version": "3.7.4"
  }
 },
 "nbformat": 4,
 "nbformat_minor": 5
}
