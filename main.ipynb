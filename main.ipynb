{
 "cells": [
  {
   "cell_type": "markdown",
   "id": "passive-collect",
   "metadata": {},
   "source": [
    "# Goal: Find drivers of upsets in chess games and create a model to predict upsets \n",
    "\n",
    "* Upset is defined as a player with a lower rating winning a game agenst a player with a higher rating\n",
    "* Model should make a predictions after having 'interviewed' each player as to thier intended opening as white and what defence they intend to use against a given opening as black"
   ]
  },
  {
   "cell_type": "markdown",
   "id": "temporal-stomach",
   "metadata": {},
   "source": [
    "### Initial Thoughts\n",
    "\n",
    "<br>\n",
    "\n",
    "* Going into this project I am of two minds.\n",
    "\n",
    "<br>\n",
    "\n",
    "**First**\n",
    "* Chess is a skill based game with no random elements (except assigning first move). \n",
    "* Because of this the player with the highest level of skill will win any game not determined by variation in player performance. \n",
    "* Because of this a given game will be won by the player with the highest level of skill a large majority of the time. * If this is true conditions underwhich variation in performance is the highest should result in the highest likelyhood of an upset.\n",
    "\n",
    "<br>\n",
    "\n",
    "**Second**\n",
    "* It may also be the case that more skilled players are able to maintain consistancy better than less skilled players under conditions that would increased variation in thier performance.\n",
    "* If this is true, those conditions may make upsets less likely as the variance would have a grater effect on the the less skilled player than on the more skilled player.\n",
    "\n",
    "<br>\n",
    "\n",
    "**Conclution**\n",
    "* Though these two schools of thought may point at differing conclutions, both seem grounded in reason and I am eager to see what the data can tell us\n",
    "\n",
    "### Initial Hypothisese About Drivers\n",
    "\n",
    "* There will be few instances of upsets, possibly leading to an imbalanced data set\n",
    "* As ratings for both players increase, the likelyhood of an upset will decrease \n",
    "* As the margin between player ratings increase the likelyhood of an upsets will decrease\n",
    "* Shorter time incraments will increase the likelyhood of an upset\n",
    "* Unranked games will have a higher likelyhood of an upset than ranked games\n",
    "* Games where the higher rated player is moving the white pieces (gaining first move advantage) will have a decreased likelyhood of of an upset\n",
    "* Some opening/defense stratagies may be more or less prone to upsets\n",
    "* openings/defences that are more popular or perfered by higher rated players may be more/less prone to upset"
   ]
  },
  {
   "cell_type": "markdown",
   "id": "recognized-insertion",
   "metadata": {},
   "source": [
    "# Imports"
   ]
  },
  {
   "cell_type": "code",
   "execution_count": 1,
   "id": "following-steam",
   "metadata": {},
   "outputs": [],
   "source": [
    "import pandas as pd\n",
    "import numpy as np\n",
    "\n",
    "import matplotlib.pyplot as plt\n",
    "import seaborn as sns\n",
    "import os\n",
    "\n",
    "from sklearn.model_selection import train_test_split\n",
    "import sklearn.preprocessing\n",
    "\n",
    "import warnings\n",
    "warnings.filterwarnings(\"ignore\")\n",
    "\n",
    "import re\n",
    "\n",
    "import wrangle as w"
   ]
  },
  {
   "cell_type": "markdown",
   "id": "further-swimming",
   "metadata": {},
   "source": [
    "# Acquire\n",
    "\n",
    "* Data acquired from Kaggle at https://www.kaggle.com/datasnaek/chess\n",
    "* It contained 20,058 rows and 9 columns before cleaning"
   ]
  },
  {
   "cell_type": "markdown",
   "id": "strategic-steering",
   "metadata": {},
   "source": [
    "# Prepare\n",
    "\n",
    "**Data was very clean initially, I performed the following steps to insure that is was ready for exploration:**\n",
    "* Removed columns that did not contain useful information\\* \n",
    "* Renamed columns to premote readability\\*\n",
    "* Checked for nulls in the data (there were none)\n",
    "* Checked that column data types were ppropriate\n",
    "* Removed white space from values in object columns\n",
    "* There were no rows lost during preperation\n",
    "* Added Target column 'upset' indicating weather the lower rated player won the game\n",
    "* Added additional features to investigate (columns that could be calculated one row at a time)*\n",
    "* Split data into train, validate and test (approx. 60/20/20), stratifying on 'upset'\n",
    "* Added additional features to investigate (columns that requiered an aggregate calculation by column)\n",
    "* aggregat calculations were performed on train data\n",
    "* resulting calculations were then applied to create columns in train, validate, and test data.\n",
    "\n",
    "\\* See data dictionary for full list"
   ]
  },
  {
   "cell_type": "code",
   "execution_count": 2,
   "id": "pressing-legislation",
   "metadata": {},
   "outputs": [
    {
     "ename": "AttributeError",
     "evalue": "'DataFrame' object has no attribute 'rating'",
     "output_type": "error",
     "traceback": [
      "\u001b[0;31m---------------------------------------------------------------------------\u001b[0m",
      "\u001b[0;31mAttributeError\u001b[0m                            Traceback (most recent call last)",
      "\u001b[0;32m<ipython-input-2-23b1dd77739a>\u001b[0m in \u001b[0;36m<module>\u001b[0;34m\u001b[0m\n\u001b[1;32m      1\u001b[0m \u001b[0mdf\u001b[0m \u001b[0;34m=\u001b[0m \u001b[0mw\u001b[0m\u001b[0;34m.\u001b[0m\u001b[0mwrangle_chess_data\u001b[0m\u001b[0;34m(\u001b[0m\u001b[0mreprep\u001b[0m \u001b[0;34m=\u001b[0m \u001b[0;32mTrue\u001b[0m\u001b[0;34m)\u001b[0m\u001b[0;34m\u001b[0m\u001b[0;34m\u001b[0m\u001b[0m\n\u001b[1;32m      2\u001b[0m \u001b[0mtrain\u001b[0m\u001b[0;34m,\u001b[0m \u001b[0mvalidate\u001b[0m\u001b[0;34m,\u001b[0m \u001b[0mtest\u001b[0m \u001b[0;34m=\u001b[0m \u001b[0mw\u001b[0m\u001b[0;34m.\u001b[0m\u001b[0msplit_my_data\u001b[0m\u001b[0;34m(\u001b[0m\u001b[0mdf\u001b[0m\u001b[0;34m)\u001b[0m\u001b[0;34m\u001b[0m\u001b[0;34m\u001b[0m\u001b[0m\n\u001b[0;32m----> 3\u001b[0;31m \u001b[0mtrain\u001b[0m\u001b[0;34m,\u001b[0m \u001b[0mvalidate\u001b[0m\u001b[0;34m,\u001b[0m \u001b[0mtest\u001b[0m \u001b[0;34m=\u001b[0m \u001b[0mw\u001b[0m\u001b[0;34m.\u001b[0m\u001b[0mfe_post_split\u001b[0m\u001b[0;34m(\u001b[0m\u001b[0mtrain\u001b[0m\u001b[0;34m,\u001b[0m \u001b[0mvalidate\u001b[0m\u001b[0;34m,\u001b[0m \u001b[0mtest\u001b[0m\u001b[0;34m)\u001b[0m\u001b[0;34m\u001b[0m\u001b[0;34m\u001b[0m\u001b[0m\n\u001b[0m\u001b[1;32m      4\u001b[0m \u001b[0mtrain\u001b[0m\u001b[0;34m.\u001b[0m\u001b[0mcolumns\u001b[0m\u001b[0;34m\u001b[0m\u001b[0;34m\u001b[0m\u001b[0m\n",
      "\u001b[0;32m~/Desktop/git_repositories/data_science_projects/chess_upsets/wrangle.py\u001b[0m in \u001b[0;36mfe_post_split\u001b[0;34m(train, validate, test)\u001b[0m\n\u001b[1;32m    112\u001b[0m     \u001b[0;31m# get averages game based on train data\u001b[0m\u001b[0;34m\u001b[0m\u001b[0;34m\u001b[0m\u001b[0;34m\u001b[0m\u001b[0m\n\u001b[1;32m    113\u001b[0m     \u001b[0maverage_moves\u001b[0m \u001b[0;34m=\u001b[0m \u001b[0mtrain\u001b[0m\u001b[0;34m.\u001b[0m\u001b[0mturns\u001b[0m\u001b[0;34m.\u001b[0m\u001b[0mmean\u001b[0m\u001b[0;34m(\u001b[0m\u001b[0;34m)\u001b[0m\u001b[0;34m\u001b[0m\u001b[0;34m\u001b[0m\u001b[0m\n\u001b[0;32m--> 114\u001b[0;31m     \u001b[0maverage_rating\u001b[0m \u001b[0;34m=\u001b[0m \u001b[0mtrain\u001b[0m\u001b[0;34m.\u001b[0m\u001b[0mrating\u001b[0m\u001b[0;34m.\u001b[0m\u001b[0mmean\u001b[0m\u001b[0;34m(\u001b[0m\u001b[0;34m)\u001b[0m\u001b[0;34m\u001b[0m\u001b[0;34m\u001b[0m\u001b[0m\n\u001b[0m\u001b[1;32m    115\u001b[0m \u001b[0;34m\u001b[0m\u001b[0m\n\u001b[1;32m    116\u001b[0m     \u001b[0;31m# add time_minutes column to train validate and test\u001b[0m\u001b[0;34m\u001b[0m\u001b[0;34m\u001b[0m\u001b[0;34m\u001b[0m\u001b[0m\n",
      "\u001b[0;32m/usr/local/anaconda3/lib/python3.7/site-packages/pandas/core/generic.py\u001b[0m in \u001b[0;36m__getattr__\u001b[0;34m(self, name)\u001b[0m\n\u001b[1;32m   5460\u001b[0m             \u001b[0;32mif\u001b[0m \u001b[0mself\u001b[0m\u001b[0;34m.\u001b[0m\u001b[0m_info_axis\u001b[0m\u001b[0;34m.\u001b[0m\u001b[0m_can_hold_identifiers_and_holds_name\u001b[0m\u001b[0;34m(\u001b[0m\u001b[0mname\u001b[0m\u001b[0;34m)\u001b[0m\u001b[0;34m:\u001b[0m\u001b[0;34m\u001b[0m\u001b[0;34m\u001b[0m\u001b[0m\n\u001b[1;32m   5461\u001b[0m                 \u001b[0;32mreturn\u001b[0m \u001b[0mself\u001b[0m\u001b[0;34m[\u001b[0m\u001b[0mname\u001b[0m\u001b[0;34m]\u001b[0m\u001b[0;34m\u001b[0m\u001b[0;34m\u001b[0m\u001b[0m\n\u001b[0;32m-> 5462\u001b[0;31m             \u001b[0;32mreturn\u001b[0m \u001b[0mobject\u001b[0m\u001b[0;34m.\u001b[0m\u001b[0m__getattribute__\u001b[0m\u001b[0;34m(\u001b[0m\u001b[0mself\u001b[0m\u001b[0;34m,\u001b[0m \u001b[0mname\u001b[0m\u001b[0;34m)\u001b[0m\u001b[0;34m\u001b[0m\u001b[0;34m\u001b[0m\u001b[0m\n\u001b[0m\u001b[1;32m   5463\u001b[0m \u001b[0;34m\u001b[0m\u001b[0m\n\u001b[1;32m   5464\u001b[0m     \u001b[0;32mdef\u001b[0m \u001b[0m__setattr__\u001b[0m\u001b[0;34m(\u001b[0m\u001b[0mself\u001b[0m\u001b[0;34m,\u001b[0m \u001b[0mname\u001b[0m\u001b[0;34m:\u001b[0m \u001b[0mstr\u001b[0m\u001b[0;34m,\u001b[0m \u001b[0mvalue\u001b[0m\u001b[0;34m)\u001b[0m \u001b[0;34m->\u001b[0m \u001b[0;32mNone\u001b[0m\u001b[0;34m:\u001b[0m\u001b[0;34m\u001b[0m\u001b[0;34m\u001b[0m\u001b[0m\n",
      "\u001b[0;31mAttributeError\u001b[0m: 'DataFrame' object has no attribute 'rating'"
     ]
    }
   ],
   "source": [
    "df = w.wrangle_chess_data(reprep = True)\n",
    "train, validate, test = w.split_my_data(df)\n",
    "train, validate, test = w.fe_post_split(train, validate, test)\n",
    "train.columns"
   ]
  },
  {
   "cell_type": "code",
   "execution_count": null,
   "id": "moral-swimming",
   "metadata": {},
   "outputs": [],
   "source": [
    "train[train.game_rating > train.game_rating.mean].opening_code.value_counts()"
   ]
  },
  {
   "cell_type": "code",
   "execution_count": null,
   "id": "large-johnson",
   "metadata": {},
   "outputs": [],
   "source": [
    "# get percent of total games played\n",
    "train['opening_code_pop'] = train['opening_code'].apply(lambda value : train.opening_code.value_counts()[value]/len(train))\n",
    "train['opening_name_pop'] = train['opening_name'].apply(lambda value : train.opening_name.value_counts()[value]/len(train))\n",
    "\n",
    "# get percent of total games played by high level players\n",
    "train['opening_code_pop'] = train['opening_code'].apply(lambda value : train[train.game_rating > train.game_rating.mean].opening_code.value_counts()[value]/len(train))\n",
    "train['opening_name_pop'] = train['opening_name'].apply(lambda value : train.opening_name.value_counts()[value]/len(train))"
   ]
  },
  {
   "cell_type": "code",
   "execution_count": null,
   "id": "anonymous-juvenile",
   "metadata": {},
   "outputs": [],
   "source": [
    "train.head(10)"
   ]
  },
  {
   "cell_type": "code",
   "execution_count": null,
   "id": "decimal-wedding",
   "metadata": {},
   "outputs": [],
   "source": [
    "train.head()"
   ]
  },
  {
   "cell_type": "code",
   "execution_count": null,
   "id": "chronic-campaign",
   "metadata": {},
   "outputs": [],
   "source": [
    "opening_list = train.opening_code.to_list()\n",
    "opening_name_list = train.opening_name.to_list()"
   ]
  },
  {
   "cell_type": "code",
   "execution_count": null,
   "id": "developmental-resident",
   "metadata": {},
   "outputs": [],
   "source": [
    "average_moves_per_game = train.turns.mean()\n",
    "int(average_moves_per_game)"
   ]
  },
  {
   "cell_type": "code",
   "execution_count": null,
   "id": "scheduled-championship",
   "metadata": {},
   "outputs": [],
   "source": [
    "median_moves_per_game = train.turns.median()\n",
    "median_moves_per_game"
   ]
  },
  {
   "cell_type": "code",
   "execution_count": null,
   "id": "numerous-asthma",
   "metadata": {},
   "outputs": [],
   "source": [
    "train.time_code.value_counts().head(20)"
   ]
  },
  {
   "cell_type": "code",
   "execution_count": null,
   "id": "electronic-gamma",
   "metadata": {},
   "outputs": [],
   "source": [
    "reg = r'\\+'\n",
    "\n",
    "string = '10+5'\n",
    "\n",
    "time = re.sub(reg, ' ', string)\n",
    "time = time.split(' ')\n",
    "\n",
    "((int(time[0]) * 60) + (int(time[1]) * (average_moves_per_game/2)))/60"
   ]
  },
  {
   "cell_type": "code",
   "execution_count": null,
   "id": "about-contents",
   "metadata": {},
   "outputs": [],
   "source": [
    "10 * 60"
   ]
  },
  {
   "cell_type": "code",
   "execution_count": null,
   "id": "hired-buddy",
   "metadata": {},
   "outputs": [],
   "source": [
    "5 * 30"
   ]
  },
  {
   "cell_type": "code",
   "execution_count": null,
   "id": "retired-nomination",
   "metadata": {},
   "outputs": [],
   "source": [
    "750/60"
   ]
  },
  {
   "cell_type": "markdown",
   "id": "inner-tract",
   "metadata": {},
   "source": [
    "### Examine Object Variables"
   ]
  },
  {
   "cell_type": "code",
   "execution_count": null,
   "id": "incredible-andrew",
   "metadata": {},
   "outputs": [],
   "source": []
  },
  {
   "cell_type": "code",
   "execution_count": null,
   "id": "plastic-inflation",
   "metadata": {},
   "outputs": [],
   "source": []
  },
  {
   "cell_type": "code",
   "execution_count": null,
   "id": "focused-monitor",
   "metadata": {
    "scrolled": false
   },
   "outputs": [],
   "source": [
    "# distribution of the data\n",
    "columns = ['ended_as', 'winning_pieces', \n",
    "           'time_code', 'opening_code', \n",
    "           'opening_name', 'upset']\n",
    "\n",
    "for col in columns:\n",
    "    \n",
    "    df[col].value_counts().plot(kind='bar', title = f\"{col} distribution\")\n",
    "    \n",
    "    plt.show()"
   ]
  },
  {
   "cell_type": "markdown",
   "id": "generous-terrorism",
   "metadata": {},
   "source": [
    "### Takeaways\n",
    "\n",
    "* Resignations usually happen when mate is enevitable I see no reason to seperate the two\n",
    "* I wonder if running out of time has an effect on upsets? \n",
    "* White does have an advantage, though it is much smaller than I thought it would be, at about 10% higher number of wins than black\n",
    "* time_code, opening_code, and opening_name, have too many values to sort through at the moment and will have to be binned or pruened\n",
    "* upsets represent about 1/3 or the data, which is higher than I thought it would be"
   ]
  },
  {
   "cell_type": "markdown",
   "id": "nominated-stocks",
   "metadata": {},
   "source": [
    "### Examine Quantitative Variables"
   ]
  },
  {
   "cell_type": "code",
   "execution_count": null,
   "id": "former-wings",
   "metadata": {},
   "outputs": [],
   "source": [
    "# distribution of the data\n",
    "cols = ['turns', 'white_rating', 'black_rating']\n",
    "\n",
    "for col in cols:\n",
    "    plt.hist(df[col])\n",
    "    plt.title(col+' distripution')\n",
    "    plt.show()"
   ]
  },
  {
   "cell_type": "markdown",
   "id": "indian-catalyst",
   "metadata": {},
   "source": [
    "### Takeaways\n",
    "\n",
    "* Turns is slightly right skewed \n",
    "* Black and white rating distributions are pretty normally distributed and are nearly if not entierly identical"
   ]
  },
  {
   "cell_type": "code",
   "execution_count": null,
   "id": "prescribed-brain",
   "metadata": {},
   "outputs": [],
   "source": [
    "df.time_code.value_counts()"
   ]
  },
  {
   "cell_type": "markdown",
   "id": "representative-wagner",
   "metadata": {},
   "source": [
    "### I'm goint to try to prune the object columns by removing the values that do not have a significant represintation I an setting my trial cut off point at 50 or more occurrences "
   ]
  },
  {
   "cell_type": "code",
   "execution_count": null,
   "id": "precious-dragon",
   "metadata": {
    "scrolled": false
   },
   "outputs": [],
   "source": []
  },
  {
   "cell_type": "code",
   "execution_count": null,
   "id": "complimentary-highway",
   "metadata": {
    "scrolled": false
   },
   "outputs": [],
   "source": []
  },
  {
   "cell_type": "code",
   "execution_count": null,
   "id": "divine-bradford",
   "metadata": {},
   "outputs": [],
   "source": [
    "df.to_csv('games_preped.csv')\n",
    "df = pd.read_csv('games_preped.csv')"
   ]
  },
  {
   "cell_type": "code",
   "execution_count": null,
   "id": "inclusive-lease",
   "metadata": {},
   "outputs": [],
   "source": []
  },
  {
   "cell_type": "code",
   "execution_count": null,
   "id": "comparative-seeker",
   "metadata": {},
   "outputs": [],
   "source": [
    "df.drop(columns=['Unnamed: 0'], inplace = True)"
   ]
  },
  {
   "cell_type": "code",
   "execution_count": null,
   "id": "stone-reasoning",
   "metadata": {},
   "outputs": [],
   "source": [
    "df.head()"
   ]
  },
  {
   "cell_type": "code",
   "execution_count": null,
   "id": "scenic-partnership",
   "metadata": {
    "scrolled": false
   },
   "outputs": [],
   "source": [
    "# distribution of the data\n",
    "columns = ['ended_as', 'winning_pieces', \n",
    "           'time_code', 'opening_code', \n",
    "           'opening_name', 'upset']\n",
    "\n",
    "for col in columns:\n",
    "    \n",
    "    df[col].value_counts().plot(kind='bar', title = f\"{col} distribution\")\n",
    "    \n",
    "    plt.show()"
   ]
  },
  {
   "cell_type": "code",
   "execution_count": null,
   "id": "corresponding-angola",
   "metadata": {},
   "outputs": [],
   "source": [
    "from wrangle import wrangle_chess_data"
   ]
  },
  {
   "cell_type": "code",
   "execution_count": null,
   "id": "wireless-europe",
   "metadata": {},
   "outputs": [],
   "source": [
    "df = wrangle_chess_data()\n",
    "df.head()"
   ]
  },
  {
   "cell_type": "code",
   "execution_count": null,
   "id": "portable-palestine",
   "metadata": {},
   "outputs": [],
   "source": [
    "df['rating_diff'] = abs(df.white_rating-df.black_rating)\n",
    "df.head()"
   ]
  },
  {
   "cell_type": "markdown",
   "id": "cellular-greensboro",
   "metadata": {},
   "source": [
    "# removing under 1200 rated players to eliminate new/novice players"
   ]
  },
  {
   "cell_type": "code",
   "execution_count": null,
   "id": "single-diamond",
   "metadata": {},
   "outputs": [],
   "source": [
    "df = df[(df.white_rating >= 1200) &(df.black_rating >= 1200)]"
   ]
  },
  {
   "cell_type": "code",
   "execution_count": null,
   "id": "norman-inquiry",
   "metadata": {},
   "outputs": [],
   "source": [
    "df['average_rating'] = (df.white_rating + df.black_rating) / 2"
   ]
  },
  {
   "cell_type": "code",
   "execution_count": null,
   "id": "daily-oliver",
   "metadata": {},
   "outputs": [],
   "source": [
    "df"
   ]
  },
  {
   "cell_type": "code",
   "execution_count": null,
   "id": "automatic-alfred",
   "metadata": {},
   "outputs": [],
   "source": [
    "df['upset'] = (((df.white_rating > df.black_rating) & (df.winning_pieces == 'black')) |\n",
    "               ((df.white_rating < df.black_rating) & (df.winning_pieces == 'white')))"
   ]
  },
  {
   "cell_type": "code",
   "execution_count": null,
   "id": "lasting-chase",
   "metadata": {},
   "outputs": [],
   "source": [
    "df"
   ]
  },
  {
   "cell_type": "code",
   "execution_count": null,
   "id": "related-worship",
   "metadata": {},
   "outputs": [],
   "source": [
    "df['underdog_first_move'] = df.white_rating < df.black_rating"
   ]
  },
  {
   "cell_type": "code",
   "execution_count": null,
   "id": "deadly-tobacco",
   "metadata": {},
   "outputs": [],
   "source": [
    "df"
   ]
  },
  {
   "cell_type": "code",
   "execution_count": null,
   "id": "dominican-school",
   "metadata": {},
   "outputs": [],
   "source": [
    "train_validate, test = train_test_split(df, test_size=.2, random_state=123, stratify=df.upset)"
   ]
  },
  {
   "cell_type": "code",
   "execution_count": null,
   "id": "eight-portfolio",
   "metadata": {},
   "outputs": [],
   "source": [
    "train, validate =  train_test_split(train_validate, test_size=.3, random_state=123, stratify=df.upset)"
   ]
  },
  {
   "cell_type": "code",
   "execution_count": null,
   "id": "welsh-communist",
   "metadata": {},
   "outputs": [],
   "source": [
    "train.size"
   ]
  },
  {
   "cell_type": "code",
   "execution_count": null,
   "id": "dried-trademark",
   "metadata": {},
   "outputs": [],
   "source": [
    "df.to_csv('games_preped.csv')\n",
    "df = pd.read_csv('games_preped.csv')"
   ]
  }
 ],
 "metadata": {
  "kernelspec": {
   "display_name": "Python 3",
   "language": "python",
   "name": "python3"
  },
  "language_info": {
   "codemirror_mode": {
    "name": "ipython",
    "version": 3
   },
   "file_extension": ".py",
   "mimetype": "text/x-python",
   "name": "python",
   "nbconvert_exporter": "python",
   "pygments_lexer": "ipython3",
   "version": "3.7.4"
  }
 },
 "nbformat": 4,
 "nbformat_minor": 5
}
