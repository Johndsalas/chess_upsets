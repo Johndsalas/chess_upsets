{
 "cells": [
  {
   "cell_type": "markdown",
   "id": "passive-collect",
   "metadata": {},
   "source": [
    "# Goal: Find drivers of upsets in chess games and create a model to predict upsets \n",
    "\n",
    "* Upset is defined as a player with a lower rating winning a game agenst a player with a higher rating\n",
    "* Model should make a predictions after having 'interviewed' each player as to thier intended opening as white and what defence they intend to use against a given opening as black"
   ]
  },
  {
   "cell_type": "markdown",
   "id": "temporal-stomach",
   "metadata": {},
   "source": [
    "### Initial Thoughts\n",
    "\n",
    "<br>\n",
    "\n",
    "* Going into this project I am of two minds.\n",
    "\n",
    "<br>\n",
    "\n",
    "**First**\n",
    "* Chess is a skill based game with no random elements (except assigning first move). \n",
    "* Because of this the player with the highest level of skill will win any game not determined by variation in player performance. \n",
    "* Because of this a given game will be won by the player with the highest level of skill a large majority of the time.\n",
    "* If this is true conditions underwhich variation in performance is the highest should result in the highest likelyhood of an upset.\n",
    "\n",
    "<br>\n",
    "\n",
    "**Second**\n",
    "* It may also be the case that more skilled players are able to maintain consistancy better than less skilled players under conditions that would increased variation in thier performance.\n",
    "* If this is true, those conditions may make upsets less likely as the variance would have a grater effect on the the less skilled player than on the more skilled player.\n",
    "\n",
    "<br>\n",
    "\n",
    "**Moving Forward**\n",
    "* Though these two schools of thought may point at differing conclutions, both seem grounded in reason and I am eager to see what the data can tell us\n",
    "\n",
    "### Initial Hypothisese About Drivers\n",
    "\n",
    "* There will be few instances of upsets, possibly leading to an imbalanced data set\n",
    "* As ratings for both players increase, the likelyhood of an upset will decrease \n",
    "* As the margin between player ratings increase the likelyhood of an upsets will decrease\n",
    "* Shorter time incraments will increase the likelyhood of an upset\n",
    "* Unranked games will have a higher likelyhood of an upset than ranked games\n",
    "* Games where the higher rated player is moving the white pieces (gaining first move advantage) will have a decreased likelyhood of of an upset\n",
    "* Some opening/defense stratagies may be more or less prone to upsets\n",
    "* openings/defences that are more popular or perfered by higher rated players may be more/less prone to upset"
   ]
  },
  {
   "cell_type": "markdown",
   "id": "recognized-insertion",
   "metadata": {},
   "source": [
    "# Imports"
   ]
  },
  {
   "cell_type": "code",
   "execution_count": 1,
   "id": "following-steam",
   "metadata": {},
   "outputs": [],
   "source": [
    "import pandas as pd\n",
    "import numpy as np\n",
    "\n",
    "import matplotlib.pyplot as plt\n",
    "import seaborn as sns\n",
    "import os\n",
    "\n",
    "from sklearn.model_selection import train_test_split\n",
    "import sklearn.preprocessing\n",
    "\n",
    "import warnings\n",
    "warnings.filterwarnings(\"ignore\")\n",
    "\n",
    "from scipy import stats\n",
    "import re\n",
    "\n",
    "import wrangle as w"
   ]
  },
  {
   "cell_type": "markdown",
   "id": "further-swimming",
   "metadata": {},
   "source": [
    "# Acquire\n",
    "\n",
    "* Data acquired from Kaggle at https://www.kaggle.com/datasnaek/chess\n",
    "* It contained 20,058 rows and 9 columns before cleaning\n",
    "* Each row represents a chess game played on Lichess.org\n",
    "* Each column represents a feature of those games"
   ]
  },
  {
   "cell_type": "markdown",
   "id": "strategic-steering",
   "metadata": {},
   "source": [
    "# Prepare\n",
    "\n",
    "**Data was very clean initially, I performed the following steps to insure that is was ready for exploration:**\n",
    "* Removed columns that did not contain useful information\\* \n",
    "* Renamed columns to premote readability\\*\n",
    "* Checked for nulls in the data (there were none)\n",
    "* Checked that column data types were apropriate\n",
    "* Removed white space from values in object columns\n",
    "* There were no rows lost during preperation\n",
    "* Added Target column 'upset' indicating weather the lower rated player won the game\n",
    "* Added additional features to investigate (columns that could be calculated one row at a time)\\*\n",
    "* Split data into train, validate and test (approx. 60/20/20), stratifying on 'upset'\n",
    "* Added additional features to investigate (columns that requiered an aggregate calculation by column)\\*\n",
    "* aggregat calculations were performed on train data\n",
    "* resulting calculations were then applied to create columns in train, validate, and test data.\n",
    "\n",
    "\\* See data dictionary for full list of column names"
   ]
  },
  {
   "cell_type": "code",
   "execution_count": 2,
   "id": "pressing-legislation",
   "metadata": {},
   "outputs": [],
   "source": [
    "# acquiring, cleaning, and adding pre-split features to data\n",
    "df = w.wrangle_chess_data(reprep = True)\n",
    "\n",
    "# Splitting data into train, validate, and test\n",
    "train, validate, test = w.split_my_data(df)\n",
    "\n",
    "# Adding post split features to data\n",
    "train, validate, test = w.fe_post_split(train, validate, test)"
   ]
  },
  {
   "cell_type": "code",
   "execution_count": 3,
   "id": "informed-spirit",
   "metadata": {},
   "outputs": [
    {
     "data": {
      "text/plain": [
       "Index(['rated', 'turns', 'ended_as', 'winning_pieces', 'time_increment',\n",
       "       'white_rating', 'black_rating', 'opening_name', 'upset', 'rating_dif',\n",
       "       'game_rating', 'lower_rated_white', 'time_block', 'time_control_group',\n",
       "       'opening_ave_rating', 'opening_popularity_total',\n",
       "       'opening_popularity_1500', 'opening_popularity_2000'],\n",
       "      dtype='object')"
      ]
     },
     "execution_count": 3,
     "metadata": {},
     "output_type": "execute_result"
    }
   ],
   "source": [
    "train.columns"
   ]
  },
  {
   "cell_type": "code",
   "execution_count": 5,
   "id": "removable-mentor",
   "metadata": {},
   "outputs": [
    {
     "name": "stdout",
     "output_type": "stream",
     "text": [
      "\n",
      "rated\n",
      "--------------\n",
      "True     9045\n",
      "False    2187\n",
      "Name: rated, dtype: int64\n",
      "\n",
      "turns\n",
      "--------------\n",
      "39     174\n",
      "51     173\n",
      "53     170\n",
      "45     170\n",
      "43     169\n",
      "      ... \n",
      "185      1\n",
      "216      1\n",
      "184      1\n",
      "176      1\n",
      "207      1\n",
      "Name: turns, Length: 199, dtype: int64\n",
      "\n",
      "ended_as\n",
      "--------------\n",
      "resign       6231\n",
      "mate         3576\n",
      "outoftime     932\n",
      "draw          493\n",
      "Name: ended_as, dtype: int64\n",
      "\n",
      "winning_pieces\n",
      "--------------\n",
      "white    5626\n",
      "black    5087\n",
      "draw      519\n",
      "Name: winning_pieces, dtype: int64\n",
      "\n",
      "time_increment\n",
      "--------------\n",
      "10+0     4342\n",
      "15+0      721\n",
      "15+15     489\n",
      "5+5       405\n",
      "5+8       383\n",
      "         ... \n",
      "30+25       1\n",
      "6+15        1\n",
      "2+20        1\n",
      "150+3       1\n",
      "0+40        1\n",
      "Name: time_increment, Length: 350, dtype: int64\n",
      "\n",
      "white_rating\n",
      "--------------\n",
      "1500    466\n",
      "1559     26\n",
      "1547     26\n",
      "1670     26\n",
      "1696     25\n",
      "       ... \n",
      "2028      1\n",
      "2174      1\n",
      "2323      1\n",
      "2387      1\n",
      "2049      1\n",
      "Name: white_rating, Length: 1408, dtype: int64\n",
      "\n",
      "black_rating\n",
      "--------------\n",
      "1500    439\n",
      "1400     38\n",
      "1501     33\n",
      "1480     28\n",
      "1802     28\n",
      "       ... \n",
      "911       1\n",
      "919       1\n",
      "927       1\n",
      "844       1\n",
      "1046      1\n",
      "Name: black_rating, Length: 1411, dtype: int64\n",
      "\n",
      "opening_name\n",
      "--------------\n",
      "Van't Kruijs Opening                                           214\n",
      "Sicilian Defense                                               201\n",
      "Sicilian Defense: Bowdler Attack                               175\n",
      "French Defense: Knight Variation                               153\n",
      "Scotch Game                                                    151\n",
      "                                                              ... \n",
      "Polish Opening: King's Indian Variation |  Schiffler Attack      1\n",
      "Englund Gambit Complex: Felbecker Gambit                         1\n",
      "Caro-Kann Defense: Gurgenidze System                             1\n",
      "Ruy Lopez: Berlin Defense |  Rosenthal Variation                 1\n",
      "Polish Opening: Bugayev Advance Variation                        1\n",
      "Name: opening_name, Length: 1236, dtype: int64\n",
      "\n",
      "upset\n",
      "--------------\n",
      "False    7555\n",
      "True     3677\n",
      "Name: upset, dtype: int64\n",
      "\n",
      "rating_dif\n",
      "--------------\n",
      "0       110\n",
      "16       85\n",
      "12       78\n",
      "4        77\n",
      "6        77\n",
      "       ... \n",
      "756       1\n",
      "820       1\n",
      "844       1\n",
      "852       1\n",
      "1007      1\n",
      "Name: rating_dif, Length: 815, dtype: int64\n",
      "\n",
      "game_rating\n",
      "--------------\n",
      "1500    94\n",
      "1502    34\n",
      "1543    32\n",
      "1547    31\n",
      "1600    31\n",
      "        ..\n",
      "2223     1\n",
      "2207     1\n",
      "2182     1\n",
      "2198     1\n",
      "2326     1\n",
      "Name: game_rating, Length: 1294, dtype: int64\n",
      "\n",
      "lower_rated_white\n",
      "--------------\n",
      "False    5797\n",
      "True     5435\n",
      "Name: lower_rated_white, dtype: int64\n",
      "\n",
      "time_block\n",
      "--------------\n",
      "10     5319\n",
      "15     1894\n",
      "5       980\n",
      "8       534\n",
      "20      529\n",
      "30      400\n",
      "7       363\n",
      "25      179\n",
      "9       141\n",
      "12      129\n",
      "6       102\n",
      "45       89\n",
      "180      82\n",
      "60       55\n",
      "11       51\n",
      "13       44\n",
      "14       38\n",
      "3        35\n",
      "2        35\n",
      "16       32\n",
      "4        30\n",
      "0        27\n",
      "17       25\n",
      "40       25\n",
      "1        18\n",
      "19       17\n",
      "18       16\n",
      "35       12\n",
      "90       11\n",
      "120      10\n",
      "150       8\n",
      "21        1\n",
      "29        1\n",
      "Name: time_block, dtype: int64\n",
      "\n",
      "time_control_group\n",
      "--------------\n",
      "0      6212\n",
      "5      1181\n",
      "10      773\n",
      "15      668\n",
      "8       658\n",
      "2       353\n",
      "3       253\n",
      "30      162\n",
      "1       134\n",
      "7       107\n",
      "6       102\n",
      "4       101\n",
      "20       71\n",
      "45       65\n",
      "9        59\n",
      "60       56\n",
      "180      55\n",
      "12       54\n",
      "25       37\n",
      "14       31\n",
      "40       21\n",
      "11       17\n",
      "17       16\n",
      "16       14\n",
      "13       11\n",
      "18        8\n",
      "35        4\n",
      "19        3\n",
      "120       2\n",
      "150       2\n",
      "21        2\n",
      "Name: time_control_group, dtype: int64\n",
      "\n",
      "opening_ave_rating\n",
      "--------------\n",
      "1385.172897    214\n",
      "1567.597015    201\n",
      "1572.725714    175\n",
      "1588.000000    153\n",
      "1535.072848    151\n",
      "              ... \n",
      "1632.000000      1\n",
      "1075.000000      1\n",
      "1723.000000      1\n",
      "2064.000000      1\n",
      "1098.000000      1\n",
      "Name: opening_ave_rating, Length: 1082, dtype: int64\n",
      "\n",
      "opening_popularity_total\n",
      "--------------\n",
      "4     376\n",
      "1     376\n",
      "3     372\n",
      "2     370\n",
      "6     288\n",
      "     ... \n",
      "45     45\n",
      "43     43\n",
      "42     42\n",
      "35     35\n",
      "29     29\n",
      "Name: opening_popularity_total, Length: 76, dtype: int64\n",
      "\n",
      "opening_popularity_1500\n",
      "--------------\n",
      "1      592\n",
      "2      565\n",
      "4      504\n",
      "5      460\n",
      "3      450\n",
      "11     381\n",
      "31     372\n",
      "6      361\n",
      "8      354\n",
      "10     328\n",
      "7      322\n",
      "13     304\n",
      "56     291\n",
      "12     258\n",
      "15     250\n",
      "9      233\n",
      "16     218\n",
      "21     208\n",
      "122    201\n",
      "30     189\n",
      "27     188\n",
      "42     184\n",
      "18     178\n",
      "17     177\n",
      "110    175\n",
      "57     174\n",
      "34     171\n",
      "0      169\n",
      "48     158\n",
      "100    153\n",
      "28     152\n",
      "92     151\n",
      "19     148\n",
      "72     148\n",
      "14     142\n",
      "33     141\n",
      "85     133\n",
      "22     130\n",
      "60     122\n",
      "68     121\n",
      "75     120\n",
      "23     116\n",
      "50     107\n",
      "29     104\n",
      "74     100\n",
      "55      98\n",
      "35      78\n",
      "52      77\n",
      "53      74\n",
      "26      72\n",
      "40      66\n",
      "32      64\n",
      "47      60\n",
      "43      57\n",
      "20      55\n",
      "25      28\n",
      "Name: opening_popularity_1500, dtype: int64\n",
      "\n",
      "opening_popularity_2000\n",
      "--------------\n",
      "0     4199\n",
      "1     2660\n",
      "2     1171\n",
      "3      849\n",
      "4      764\n",
      "5      514\n",
      "7      303\n",
      "6      267\n",
      "8      148\n",
      "10     133\n",
      "12     100\n",
      "9       79\n",
      "11      45\n",
      "Name: opening_popularity_2000, dtype: int64\n"
     ]
    }
   ],
   "source": [
    "for column in train.columns:\n",
    "    \n",
    "    print()\n",
    "    print(column)\n",
    "    print('--------------')\n",
    "    print(train[column].value_counts())\n",
    "    "
   ]
  },
  {
   "cell_type": "markdown",
   "id": "local-paper",
   "metadata": {},
   "source": [
    "# Explore"
   ]
  },
  {
   "cell_type": "markdown",
   "id": "considerable-attendance",
   "metadata": {},
   "source": [
    "## How often do upsets occur?"
   ]
  },
  {
   "cell_type": "code",
   "execution_count": null,
   "id": "governing-resident",
   "metadata": {
    "scrolled": true
   },
   "outputs": [],
   "source": [
    "values = [len(train.upset[train.upset == True]), len(train.upset[train.upset == False])] \n",
    "labels = ['Upset','Non-Upset', ] \n",
    "plt.pie(values, labels=labels, autopct='%.0f%%')\n",
    "plt.title('Games Ending in Upsets Represent 1/3 of the test data')\n",
    "plt.show()"
   ]
  },
  {
   "cell_type": "markdown",
   "id": "continued-committee",
   "metadata": {},
   "source": [
    "**About 1/3 of games will end in an upset** <br>\n",
    "This is much higher than I expected and may be do to the Lichess.org matching system pairing similarly rated players for matches."
   ]
  },
  {
   "cell_type": "markdown",
   "id": "wound-gothic",
   "metadata": {},
   "source": [
    "## Dose first turn advantage effect upsets?"
   ]
  },
  {
   "cell_type": "code",
   "execution_count": null,
   "id": "cordless-environment",
   "metadata": {},
   "outputs": [],
   "source": [
    "fig, (ax1,ax2) = plt.subplots(1,2,figsize=(10,10))\n",
    "#fig.suptitle('Upset Percentage is 4% Higher in Games Where the Lower Rated Player has the First Move')\n",
    "\n",
    "values = [len(train.upset[(train.lower_rated_white == True) & (train.upset == True)]),\n",
    "          len(train.upset[(train.lower_rated_white == True) & (train.upset == False)])]\n",
    "labels = ['Upset', 'Non-Upset']\n",
    "\n",
    "ax1.pie(values, labels=labels, autopct='%.0f%%')\n",
    "ax1.title.set_text('Lower Rated Player has First Move')\n",
    "\n",
    "values = [len(train.upset[(train.lower_rated_white == False) & (train.upset == True)]),\n",
    "          len(train.upset[(train.lower_rated_white == False) & (train.upset == False)])]\n",
    "labels = ['Upset', 'Non-Upset'] \n",
    "\n",
    "ax2.pie(values, labels=labels, autopct='%.0f%%')\n",
    "ax2.title.set_text('Higher Rated Player has First Move')\n",
    "\n",
    "plt.show()"
   ]
  },
  {
   "cell_type": "markdown",
   "id": "geographic-nursing",
   "metadata": {},
   "source": [
    "**Upset Percentage is 4% Higher in Games Where the Lower Rated Player has the First Move.** <br>\n",
    "This is lower than I expected. I will not use a chi-square test to investigate whether this pattern will hold for the entire population of chess games.\n",
    "\n"
   ]
  },
  {
   "cell_type": "markdown",
   "id": "acknowledged-subscriber",
   "metadata": {},
   "source": [
    "**Ho: \"Games ending in Upset\" and \"The lower ranked player having the first move\" are independant of one another.** \n",
    "\n",
    "**Ha: \"Games ending in Upset\" and \"The lower ranked player having the first move\" are dependant on one another.**\n",
    "\n",
    "**I will be using a confidance interval of 95% resulting an an alpha of .05.**"
   ]
  },
  {
   "cell_type": "code",
   "execution_count": null,
   "id": "presidential-guarantee",
   "metadata": {},
   "outputs": [],
   "source": [
    "observed = pd.crosstab(train.lower_rated_white, train.upset)\n",
    "\n",
    "chi2, p, degf, expected = stats.chi2_contingency(observed)\n",
    "\n",
    "print(f'chi^2 = {chi2:.4f}')\n",
    "print(f'p     = {p:.4f}')"
   ]
  },
  {
   "cell_type": "markdown",
   "id": "cognitive-brook",
   "metadata": {},
   "source": [
    "**Because our P value is less than our alpha we can conclude that there is a high likelyhood that \"Games ending in Upset\" and \"The lower ranked player having the first move\" are dependant on one another. This means that we should expect the same 4% difference in upsets, based on having the first move, that we saw in the train data to also exist in the total population of chess games. For this reason I believe that the lower rated player having the first move is a driver of upsets and would be good feature to model on.**"
   ]
  },
  {
   "cell_type": "markdown",
   "id": "environmental-longitude",
   "metadata": {},
   "source": [
    "## Does a game being rated effect upsets?"
   ]
  },
  {
   "cell_type": "code",
   "execution_count": null,
   "id": "informed-encyclopedia",
   "metadata": {},
   "outputs": [],
   "source": [
    "fig, (ax1,ax2) = plt.subplots(1,2,figsize=(10,10))\n",
    "#fig.suptitle('Upset Percentage is 4% Higher in Games Where the Lower Rated Player has the First Move')\n",
    "\n",
    "values = [len(train.upset[(train.rated == True) & (train.upset == True)]),\n",
    "          len(train.upset[(train.rated == True) & (train.upset == False)])]\n",
    "labels = ['Upset', 'Non-Upset']\n",
    "\n",
    "ax1.pie(values, labels=labels, autopct='%.0f%%')\n",
    "ax1.title.set_text('Game is Rated')\n",
    "\n",
    "values = [len(train.upset[(train.rated == False) & (train.upset == True)]),\n",
    "          len(train.upset[(train.rated == False) & (train.upset == False)])]\n",
    "labels = ['Upset', 'Non-Upset'] \n",
    "\n",
    "ax2.pie(values, labels=labels, autopct='%.0f%%')\n",
    "ax2.title.set_text('Game is not Rated')\n",
    "\n",
    "plt.show()"
   ]
  },
  {
   "cell_type": "code",
   "execution_count": null,
   "id": "dangerous-groove",
   "metadata": {},
   "outputs": [],
   "source": [
    "observed = pd.crosstab(train.rated, train.upset)\n",
    "\n",
    "chi2, p, degf, expected = stats.chi2_contingency(observed)\n",
    "\n",
    "print(f'chi^2 = {chi2:.4f}')\n",
    "print(f'p     = {p:.4f}')"
   ]
  },
  {
   "cell_type": "code",
   "execution_count": null,
   "id": "smart-sending",
   "metadata": {},
   "outputs": [],
   "source": []
  },
  {
   "cell_type": "code",
   "execution_count": null,
   "id": "serial-edgar",
   "metadata": {},
   "outputs": [],
   "source": []
  },
  {
   "cell_type": "code",
   "execution_count": null,
   "id": "orange-employer",
   "metadata": {},
   "outputs": [],
   "source": []
  },
  {
   "cell_type": "code",
   "execution_count": null,
   "id": "outside-attraction",
   "metadata": {},
   "outputs": [],
   "source": []
  },
  {
   "cell_type": "code",
   "execution_count": null,
   "id": "incident-reducing",
   "metadata": {},
   "outputs": [],
   "source": []
  },
  {
   "cell_type": "code",
   "execution_count": null,
   "id": "electric-shuttle",
   "metadata": {},
   "outputs": [],
   "source": []
  },
  {
   "cell_type": "code",
   "execution_count": null,
   "id": "faced-jumping",
   "metadata": {},
   "outputs": [],
   "source": []
  },
  {
   "cell_type": "markdown",
   "id": "normal-priest",
   "metadata": {},
   "source": [
    "### 1) Do upsets and non-upsets have a significantly differint number of moves"
   ]
  },
  {
   "cell_type": "code",
   "execution_count": null,
   "id": "organized-pasta",
   "metadata": {},
   "outputs": [],
   "source": [
    "print(f\"The mean number of moves for upsets are {train[train.upset == True].turns.mean()}.\")"
   ]
  },
  {
   "cell_type": "code",
   "execution_count": null,
   "id": "fifty-chinese",
   "metadata": {},
   "outputs": [],
   "source": [
    "print(f\"The mean number of moves for a non-upset are {train[train.upset == False].turns.mean()}.\")"
   ]
  },
  {
   "cell_type": "markdown",
   "id": "alpine-kennedy",
   "metadata": {},
   "source": [
    "**Given the small difference in means for these two groups it is unlikely that the two have a statistically significant difference. However, the data meets all of the conditions for a t-test. So lets see what the results are.**"
   ]
  },
  {
   "cell_type": "markdown",
   "id": "distant-netherlands",
   "metadata": {},
   "source": [
    "**HO: The mean of moves in games that are upsets is not significantly differint from the mean of moves in games that are not upsets.**\n",
    "\n",
    "**HA: The mean of moves in games that are upsets is significantly differint from the mean of moves in games that are not upsets.**\n",
    "\n",
    "**I will be using a confidance interval of 95% resulting an an alpha of .05.**"
   ]
  },
  {
   "cell_type": "code",
   "execution_count": null,
   "id": "operational-macedonia",
   "metadata": {},
   "outputs": [],
   "source": [
    "stats.ttest_ind(train[train.upset == True].turns, train[train.upset == False].turns)"
   ]
  },
  {
   "cell_type": "markdown",
   "id": "therapeutic-surrey",
   "metadata": {},
   "source": [
    "**Because the t-test resulted in a pvalue that was below the alpha, we have reason to believe that the mean of moves in games that are upsets is significantly differint from the mean of moves, even though the difference in those means is only about 2 moves.**"
   ]
  },
  {
   "cell_type": "markdown",
   "id": "subject-mounting",
   "metadata": {},
   "source": [
    "### 2) Does the lower rated player moving the white peices effect the likelyhood of an upset?"
   ]
  },
  {
   "cell_type": "code",
   "execution_count": null,
   "id": "aggressive-access",
   "metadata": {},
   "outputs": [],
   "source": [
    "train[train.lower_rated_white == True].upset.mean()"
   ]
  },
  {
   "cell_type": "code",
   "execution_count": null,
   "id": "sensitive-quick",
   "metadata": {
    "scrolled": true
   },
   "outputs": [],
   "source": [
    "train[train.lower_rated_white == False].upset.mean()"
   ]
  },
  {
   "cell_type": "code",
   "execution_count": null,
   "id": "pleasant-protein",
   "metadata": {},
   "outputs": [],
   "source": [
    "train.upset.mean()"
   ]
  },
  {
   "cell_type": "code",
   "execution_count": null,
   "id": "simplified-driving",
   "metadata": {},
   "outputs": [],
   "source": []
  },
  {
   "cell_type": "markdown",
   "id": "inner-tract",
   "metadata": {},
   "source": [
    "### Examine Object Variables"
   ]
  },
  {
   "cell_type": "code",
   "execution_count": null,
   "id": "expanded-briefing",
   "metadata": {},
   "outputs": [],
   "source": [
    "list(train.columns)"
   ]
  },
  {
   "cell_type": "code",
   "execution_count": null,
   "id": "focused-monitor",
   "metadata": {
    "scrolled": false
   },
   "outputs": [],
   "source": [
    "# distribution of the data\n",
    "columns = ['rated',\n",
    "           'ended_as',\n",
    "           'winning_pieces',\n",
    "           'upset',\n",
    "           'lower_rated_white',\n",
    "           'time_block',\n",
    "          ]\n",
    "\n",
    "for col in columns:\n",
    "    \n",
    "    df[col].value_counts().plot(kind='bar', title = f\"{col} distribution\")\n",
    "    \n",
    "    plt.show()"
   ]
  },
  {
   "cell_type": "markdown",
   "id": "generous-terrorism",
   "metadata": {},
   "source": [
    "### Takeaways\n",
    "\n",
    "* Resignations usually happen when mate is enevitable I see no reason to seperate the two\n",
    "* I wonder if running out of time has an effect on upsets? \n",
    "* White does have an advantage, though it is much smaller than I thought it would be, at about 10% higher number of wins than black\n",
    "* time_code, opening_code, and opening_name, have too many values to sort through at the moment and will have to be binned or pruened\n",
    "* upsets represent about 1/3 or the data, which is higher than I thought it would be"
   ]
  },
  {
   "cell_type": "markdown",
   "id": "nominated-stocks",
   "metadata": {},
   "source": [
    "### Examine Quantitative Variables"
   ]
  },
  {
   "cell_type": "code",
   "execution_count": null,
   "id": "former-wings",
   "metadata": {},
   "outputs": [],
   "source": [
    "# distribution of the data\n",
    "cols = ['turns', 'white_rating', 'black_rating']\n",
    "\n",
    "for col in cols:\n",
    "    plt.hist(df[col])\n",
    "    plt.title(col+' distripution')\n",
    "    plt.show()"
   ]
  },
  {
   "cell_type": "markdown",
   "id": "indian-catalyst",
   "metadata": {},
   "source": [
    "### Takeaways\n",
    "\n",
    "* Turns is slightly right skewed \n",
    "* Black and white rating distributions are pretty normally distributed and are nearly if not entierly identical"
   ]
  },
  {
   "cell_type": "code",
   "execution_count": null,
   "id": "prescribed-brain",
   "metadata": {},
   "outputs": [],
   "source": [
    "df.time_code.value_counts()"
   ]
  },
  {
   "cell_type": "markdown",
   "id": "representative-wagner",
   "metadata": {},
   "source": [
    "### I'm goint to try to prune the object columns by removing the values that do not have a significant represintation I an setting my trial cut off point at 50 or more occurrences "
   ]
  },
  {
   "cell_type": "code",
   "execution_count": null,
   "id": "precious-dragon",
   "metadata": {
    "scrolled": false
   },
   "outputs": [],
   "source": []
  },
  {
   "cell_type": "code",
   "execution_count": null,
   "id": "complimentary-highway",
   "metadata": {
    "scrolled": false
   },
   "outputs": [],
   "source": []
  },
  {
   "cell_type": "code",
   "execution_count": null,
   "id": "divine-bradford",
   "metadata": {},
   "outputs": [],
   "source": [
    "df.to_csv('games_preped.csv')\n",
    "df = pd.read_csv('games_preped.csv')"
   ]
  },
  {
   "cell_type": "code",
   "execution_count": null,
   "id": "inclusive-lease",
   "metadata": {},
   "outputs": [],
   "source": []
  },
  {
   "cell_type": "code",
   "execution_count": null,
   "id": "comparative-seeker",
   "metadata": {},
   "outputs": [],
   "source": [
    "df.drop(columns=['Unnamed: 0'], inplace = True)"
   ]
  },
  {
   "cell_type": "code",
   "execution_count": null,
   "id": "stone-reasoning",
   "metadata": {},
   "outputs": [],
   "source": [
    "df.head()"
   ]
  },
  {
   "cell_type": "code",
   "execution_count": null,
   "id": "scenic-partnership",
   "metadata": {
    "scrolled": false
   },
   "outputs": [],
   "source": [
    "# distribution of the data\n",
    "columns = ['ended_as', 'winning_pieces', \n",
    "           'time_code', 'opening_code', \n",
    "           'opening_name', 'upset']\n",
    "\n",
    "for col in columns:\n",
    "    \n",
    "    df[col].value_counts().plot(kind='bar', title = f\"{col} distribution\")\n",
    "    \n",
    "    plt.show()"
   ]
  }
 ],
 "metadata": {
  "kernelspec": {
   "display_name": "Python 3",
   "language": "python",
   "name": "python3"
  },
  "language_info": {
   "codemirror_mode": {
    "name": "ipython",
    "version": 3
   },
   "file_extension": ".py",
   "mimetype": "text/x-python",
   "name": "python",
   "nbconvert_exporter": "python",
   "pygments_lexer": "ipython3",
   "version": "3.7.4"
  }
 },
 "nbformat": 4,
 "nbformat_minor": 5
}
