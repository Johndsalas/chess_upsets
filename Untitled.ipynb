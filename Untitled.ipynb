{
 "cells": [
  {
   "cell_type": "code",
   "execution_count": 1,
   "id": "seeing-prediction",
   "metadata": {},
   "outputs": [],
   "source": [
    "books = [\n",
    "            {\n",
    "                \"title\": \"Genetic Algorithms and Machine Learning for Programmers\",\n",
    "                \"price\": 36.99,\n",
    "                \"author\": \"Frances Buontempo\"\n",
    "            },\n",
    "            {\n",
    "                \"title\": \"The Visual Display of Quantitative Information\",\n",
    "                \"price\": 38.00,\n",
    "                \"author\": \"Edward Tufte\"\n",
    "            },\n",
    "            {\n",
    "                \"title\": \"Practical Object-Oriented Design\",\n",
    "                \"author\": \"Sandi Metz\",\n",
    "                \"price\": 30.47\n",
    "            },\n",
    "            {\n",
    "                \"title\": \"Weapons of Math Destruction\",\n",
    "                \"author\": \"Cathy O'Neil\",\n",
    "                \"price\": 17.44\n",
    "            }\n",
    "    ]"
   ]
  },
  {
   "cell_type": "code",
   "execution_count": 8,
   "id": "crucial-champion",
   "metadata": {},
   "outputs": [
    {
     "data": {
      "text/plain": [
       "{'title': 'The Visual Display of Quantitative Information',\n",
       " 'price': 38.0,\n",
       " 'author': 'Edward Tufte'}"
      ]
     },
     "execution_count": 8,
     "metadata": {},
     "output_type": "execute_result"
    }
   ],
   "source": [
    "max_dic = {}\n",
    "    \n",
    "max_price = 0\n",
    "\n",
    "for book in books:\n",
    "    \n",
    "    if book['price'] > max_price:\n",
    "        \n",
    "        max_dic = book\n",
    "        \n",
    "        max_price = book['price']\n",
    "        \n",
    "max_dic"
   ]
  },
  {
   "cell_type": "code",
   "execution_count": 9,
   "id": "electric-recording",
   "metadata": {},
   "outputs": [],
   "source": [
    "shopping_cart = {\n",
    "                    \"tax\": .08,\n",
    "                    \"items\": [\n",
    "                                {\n",
    "                                    \"title\": \"orange juice\",\n",
    "                                    \"price\": 3.99,\n",
    "                                    \"quantity\": 1\n",
    "                                },\n",
    "                                {\n",
    "                                    \"title\": \"rice\",\n",
    "                                    \"price\": 1.99,\n",
    "                                    \"quantity\": 3\n",
    "                                },\n",
    "                                {\n",
    "                                    \"title\": \"beans\",\n",
    "                                    \"price\": 0.99,\n",
    "                                    \"quantity\": 3\n",
    "                                },\n",
    "                                {\n",
    "                                    \"title\": \"chili sauce\",\n",
    "                                    \"price\": 2.99,\n",
    "                                    \"quantity\": 1\n",
    "                                },\n",
    "                                {\n",
    "                                    \"title\": \"chocolate\",\n",
    "                                    \"price\": 0.75,\n",
    "                                    \"quantity\": 9\n",
    "                                }\n",
    "                            ]\n",
    "                }"
   ]
  },
  {
   "cell_type": "code",
   "execution_count": 11,
   "id": "reflected-thomson",
   "metadata": {},
   "outputs": [],
   "source": [
    "item_list = shopping_cart['items']"
   ]
  },
  {
   "cell_type": "code",
   "execution_count": 13,
   "id": "together-involvement",
   "metadata": {},
   "outputs": [
    {
     "data": {
      "text/plain": [
       "17"
      ]
     },
     "execution_count": 13,
     "metadata": {},
     "output_type": "execute_result"
    }
   ],
   "source": [
    "total_q = 0\n",
    "\n",
    "for item in item_list:\n",
    "    \n",
    "    total_q += item['quantity']\n",
    "    \n",
    "total_q"
   ]
  },
  {
   "cell_type": "code",
   "execution_count": null,
   "id": "progressive-evanescence",
   "metadata": {},
   "outputs": [],
   "source": []
  }
 ],
 "metadata": {
  "kernelspec": {
   "display_name": "Python 3",
   "language": "python",
   "name": "python3"
  },
  "language_info": {
   "codemirror_mode": {
    "name": "ipython",
    "version": 3
   },
   "file_extension": ".py",
   "mimetype": "text/x-python",
   "name": "python",
   "nbconvert_exporter": "python",
   "pygments_lexer": "ipython3",
   "version": "3.7.4"
  }
 },
 "nbformat": 4,
 "nbformat_minor": 5
}
